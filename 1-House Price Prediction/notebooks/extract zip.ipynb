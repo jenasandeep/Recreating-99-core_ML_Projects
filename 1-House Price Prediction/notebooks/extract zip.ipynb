{
 "cells": [
  {
   "cell_type": "code",
   "execution_count": null,
   "id": "d7b7d025",
   "metadata": {},
   "outputs": [],
   "source": [
    "# data_zip_raw_path = \"..//data//raw//house-prices-advanced-regression-techniques.zip\""
   ]
  },
  {
   "cell_type": "code",
   "execution_count": null,
   "id": "d32fe891",
   "metadata": {},
   "outputs": [],
   "source": [
    "# data_dir = \"..//data//raw//\""
   ]
  },
  {
   "cell_type": "code",
   "execution_count": null,
   "id": "ea46b8c2",
   "metadata": {},
   "outputs": [],
   "source": [
    "# import zipfile\n",
    "# import os\n",
    "\n",
    "# file = zipfile.ZipFile(data_zip_raw_path)\n",
    "# file.extractall(data_dir)\n",
    "# file.close()\n",
    "\n",
    "# os.remove(data_zip_raw_path)"
   ]
  }
 ],
 "metadata": {
  "kernelspec": {
   "display_name": "Python 3",
   "language": "python",
   "name": "python3"
  },
  "language_info": {
   "codemirror_mode": {
    "name": "ipython",
    "version": 3
   },
   "file_extension": ".py",
   "mimetype": "text/x-python",
   "name": "python",
   "nbconvert_exporter": "python",
   "pygments_lexer": "ipython3",
   "version": "3.13.5"
  }
 },
 "nbformat": 4,
 "nbformat_minor": 5
}
