{
 "cells": [
  {
   "cell_type": "code",
   "execution_count": 1,
   "id": "28bad0ff",
   "metadata": {},
   "outputs": [],
   "source": [
    "# Dependency imports\n",
    "import re\n",
    "import csv\n",
    "import pandas as pd\n",
    "import numpy as np\n",
    "import matplotlib.pyplot as plt\n",
    "import seaborn as sns\n",
    "sns.set()\n",
    "\n",
    "%matplotlib inline\n",
    "\n",
    "# Notebook customizations\n",
    "import warnings\n",
    "warnings.filterwarnings('ignore')"
   ]
  },
  {
   "cell_type": "code",
   "execution_count": 2,
   "id": "7ae47f70",
   "metadata": {},
   "outputs": [
    {
     "name": "stdout",
     "output_type": "stream",
     "text": [
      "(1460, 80)\n",
      "(1459, 79)\n"
     ]
    }
   ],
   "source": [
    "# import data\n",
    "train_df = pd.read_csv(\"../data/raw/train.csv\",index_col=\"Id\")\n",
    "test_df = pd.read_csv(\"../data/raw/test.csv\",index_col=\"Id\")\n",
    "\n",
    "# check data\n",
    "print(train_df.shape)\n",
    "print(test_df.shape)\n"
   ]
  },
  {
   "cell_type": "code",
   "execution_count": 3,
   "id": "76634814",
   "metadata": {},
   "outputs": [
    {
     "data": {
      "text/html": [
       "<div>\n",
       "<style scoped>\n",
       "    .dataframe tbody tr th:only-of-type {\n",
       "        vertical-align: middle;\n",
       "    }\n",
       "\n",
       "    .dataframe tbody tr th {\n",
       "        vertical-align: top;\n",
       "    }\n",
       "\n",
       "    .dataframe thead th {\n",
       "        text-align: right;\n",
       "    }\n",
       "</style>\n",
       "<table border=\"1\" class=\"dataframe\">\n",
       "  <thead>\n",
       "    <tr style=\"text-align: right;\">\n",
       "      <th></th>\n",
       "      <th>MSSubClass</th>\n",
       "      <th>MSZoning</th>\n",
       "      <th>LotFrontage</th>\n",
       "      <th>LotArea</th>\n",
       "      <th>Street</th>\n",
       "      <th>Alley</th>\n",
       "      <th>LotShape</th>\n",
       "      <th>LandContour</th>\n",
       "      <th>Utilities</th>\n",
       "      <th>LotConfig</th>\n",
       "      <th>...</th>\n",
       "      <th>PoolArea</th>\n",
       "      <th>PoolQC</th>\n",
       "      <th>Fence</th>\n",
       "      <th>MiscFeature</th>\n",
       "      <th>MiscVal</th>\n",
       "      <th>MoSold</th>\n",
       "      <th>YrSold</th>\n",
       "      <th>SaleType</th>\n",
       "      <th>SaleCondition</th>\n",
       "      <th>SalePrice</th>\n",
       "    </tr>\n",
       "    <tr>\n",
       "      <th>Id</th>\n",
       "      <th></th>\n",
       "      <th></th>\n",
       "      <th></th>\n",
       "      <th></th>\n",
       "      <th></th>\n",
       "      <th></th>\n",
       "      <th></th>\n",
       "      <th></th>\n",
       "      <th></th>\n",
       "      <th></th>\n",
       "      <th></th>\n",
       "      <th></th>\n",
       "      <th></th>\n",
       "      <th></th>\n",
       "      <th></th>\n",
       "      <th></th>\n",
       "      <th></th>\n",
       "      <th></th>\n",
       "      <th></th>\n",
       "      <th></th>\n",
       "      <th></th>\n",
       "    </tr>\n",
       "  </thead>\n",
       "  <tbody>\n",
       "    <tr>\n",
       "      <th>1</th>\n",
       "      <td>60</td>\n",
       "      <td>RL</td>\n",
       "      <td>65.0</td>\n",
       "      <td>8450</td>\n",
       "      <td>Pave</td>\n",
       "      <td>NaN</td>\n",
       "      <td>Reg</td>\n",
       "      <td>Lvl</td>\n",
       "      <td>AllPub</td>\n",
       "      <td>Inside</td>\n",
       "      <td>...</td>\n",
       "      <td>0</td>\n",
       "      <td>NaN</td>\n",
       "      <td>NaN</td>\n",
       "      <td>NaN</td>\n",
       "      <td>0</td>\n",
       "      <td>2</td>\n",
       "      <td>2008</td>\n",
       "      <td>WD</td>\n",
       "      <td>Normal</td>\n",
       "      <td>208500</td>\n",
       "    </tr>\n",
       "    <tr>\n",
       "      <th>2</th>\n",
       "      <td>20</td>\n",
       "      <td>RL</td>\n",
       "      <td>80.0</td>\n",
       "      <td>9600</td>\n",
       "      <td>Pave</td>\n",
       "      <td>NaN</td>\n",
       "      <td>Reg</td>\n",
       "      <td>Lvl</td>\n",
       "      <td>AllPub</td>\n",
       "      <td>FR2</td>\n",
       "      <td>...</td>\n",
       "      <td>0</td>\n",
       "      <td>NaN</td>\n",
       "      <td>NaN</td>\n",
       "      <td>NaN</td>\n",
       "      <td>0</td>\n",
       "      <td>5</td>\n",
       "      <td>2007</td>\n",
       "      <td>WD</td>\n",
       "      <td>Normal</td>\n",
       "      <td>181500</td>\n",
       "    </tr>\n",
       "    <tr>\n",
       "      <th>3</th>\n",
       "      <td>60</td>\n",
       "      <td>RL</td>\n",
       "      <td>68.0</td>\n",
       "      <td>11250</td>\n",
       "      <td>Pave</td>\n",
       "      <td>NaN</td>\n",
       "      <td>IR1</td>\n",
       "      <td>Lvl</td>\n",
       "      <td>AllPub</td>\n",
       "      <td>Inside</td>\n",
       "      <td>...</td>\n",
       "      <td>0</td>\n",
       "      <td>NaN</td>\n",
       "      <td>NaN</td>\n",
       "      <td>NaN</td>\n",
       "      <td>0</td>\n",
       "      <td>9</td>\n",
       "      <td>2008</td>\n",
       "      <td>WD</td>\n",
       "      <td>Normal</td>\n",
       "      <td>223500</td>\n",
       "    </tr>\n",
       "    <tr>\n",
       "      <th>4</th>\n",
       "      <td>70</td>\n",
       "      <td>RL</td>\n",
       "      <td>60.0</td>\n",
       "      <td>9550</td>\n",
       "      <td>Pave</td>\n",
       "      <td>NaN</td>\n",
       "      <td>IR1</td>\n",
       "      <td>Lvl</td>\n",
       "      <td>AllPub</td>\n",
       "      <td>Corner</td>\n",
       "      <td>...</td>\n",
       "      <td>0</td>\n",
       "      <td>NaN</td>\n",
       "      <td>NaN</td>\n",
       "      <td>NaN</td>\n",
       "      <td>0</td>\n",
       "      <td>2</td>\n",
       "      <td>2006</td>\n",
       "      <td>WD</td>\n",
       "      <td>Abnorml</td>\n",
       "      <td>140000</td>\n",
       "    </tr>\n",
       "    <tr>\n",
       "      <th>5</th>\n",
       "      <td>60</td>\n",
       "      <td>RL</td>\n",
       "      <td>84.0</td>\n",
       "      <td>14260</td>\n",
       "      <td>Pave</td>\n",
       "      <td>NaN</td>\n",
       "      <td>IR1</td>\n",
       "      <td>Lvl</td>\n",
       "      <td>AllPub</td>\n",
       "      <td>FR2</td>\n",
       "      <td>...</td>\n",
       "      <td>0</td>\n",
       "      <td>NaN</td>\n",
       "      <td>NaN</td>\n",
       "      <td>NaN</td>\n",
       "      <td>0</td>\n",
       "      <td>12</td>\n",
       "      <td>2008</td>\n",
       "      <td>WD</td>\n",
       "      <td>Normal</td>\n",
       "      <td>250000</td>\n",
       "    </tr>\n",
       "    <tr>\n",
       "      <th>...</th>\n",
       "      <td>...</td>\n",
       "      <td>...</td>\n",
       "      <td>...</td>\n",
       "      <td>...</td>\n",
       "      <td>...</td>\n",
       "      <td>...</td>\n",
       "      <td>...</td>\n",
       "      <td>...</td>\n",
       "      <td>...</td>\n",
       "      <td>...</td>\n",
       "      <td>...</td>\n",
       "      <td>...</td>\n",
       "      <td>...</td>\n",
       "      <td>...</td>\n",
       "      <td>...</td>\n",
       "      <td>...</td>\n",
       "      <td>...</td>\n",
       "      <td>...</td>\n",
       "      <td>...</td>\n",
       "      <td>...</td>\n",
       "      <td>...</td>\n",
       "    </tr>\n",
       "    <tr>\n",
       "      <th>1456</th>\n",
       "      <td>60</td>\n",
       "      <td>RL</td>\n",
       "      <td>62.0</td>\n",
       "      <td>7917</td>\n",
       "      <td>Pave</td>\n",
       "      <td>NaN</td>\n",
       "      <td>Reg</td>\n",
       "      <td>Lvl</td>\n",
       "      <td>AllPub</td>\n",
       "      <td>Inside</td>\n",
       "      <td>...</td>\n",
       "      <td>0</td>\n",
       "      <td>NaN</td>\n",
       "      <td>NaN</td>\n",
       "      <td>NaN</td>\n",
       "      <td>0</td>\n",
       "      <td>8</td>\n",
       "      <td>2007</td>\n",
       "      <td>WD</td>\n",
       "      <td>Normal</td>\n",
       "      <td>175000</td>\n",
       "    </tr>\n",
       "    <tr>\n",
       "      <th>1457</th>\n",
       "      <td>20</td>\n",
       "      <td>RL</td>\n",
       "      <td>85.0</td>\n",
       "      <td>13175</td>\n",
       "      <td>Pave</td>\n",
       "      <td>NaN</td>\n",
       "      <td>Reg</td>\n",
       "      <td>Lvl</td>\n",
       "      <td>AllPub</td>\n",
       "      <td>Inside</td>\n",
       "      <td>...</td>\n",
       "      <td>0</td>\n",
       "      <td>NaN</td>\n",
       "      <td>MnPrv</td>\n",
       "      <td>NaN</td>\n",
       "      <td>0</td>\n",
       "      <td>2</td>\n",
       "      <td>2010</td>\n",
       "      <td>WD</td>\n",
       "      <td>Normal</td>\n",
       "      <td>210000</td>\n",
       "    </tr>\n",
       "    <tr>\n",
       "      <th>1458</th>\n",
       "      <td>70</td>\n",
       "      <td>RL</td>\n",
       "      <td>66.0</td>\n",
       "      <td>9042</td>\n",
       "      <td>Pave</td>\n",
       "      <td>NaN</td>\n",
       "      <td>Reg</td>\n",
       "      <td>Lvl</td>\n",
       "      <td>AllPub</td>\n",
       "      <td>Inside</td>\n",
       "      <td>...</td>\n",
       "      <td>0</td>\n",
       "      <td>NaN</td>\n",
       "      <td>GdPrv</td>\n",
       "      <td>Shed</td>\n",
       "      <td>2500</td>\n",
       "      <td>5</td>\n",
       "      <td>2010</td>\n",
       "      <td>WD</td>\n",
       "      <td>Normal</td>\n",
       "      <td>266500</td>\n",
       "    </tr>\n",
       "    <tr>\n",
       "      <th>1459</th>\n",
       "      <td>20</td>\n",
       "      <td>RL</td>\n",
       "      <td>68.0</td>\n",
       "      <td>9717</td>\n",
       "      <td>Pave</td>\n",
       "      <td>NaN</td>\n",
       "      <td>Reg</td>\n",
       "      <td>Lvl</td>\n",
       "      <td>AllPub</td>\n",
       "      <td>Inside</td>\n",
       "      <td>...</td>\n",
       "      <td>0</td>\n",
       "      <td>NaN</td>\n",
       "      <td>NaN</td>\n",
       "      <td>NaN</td>\n",
       "      <td>0</td>\n",
       "      <td>4</td>\n",
       "      <td>2010</td>\n",
       "      <td>WD</td>\n",
       "      <td>Normal</td>\n",
       "      <td>142125</td>\n",
       "    </tr>\n",
       "    <tr>\n",
       "      <th>1460</th>\n",
       "      <td>20</td>\n",
       "      <td>RL</td>\n",
       "      <td>75.0</td>\n",
       "      <td>9937</td>\n",
       "      <td>Pave</td>\n",
       "      <td>NaN</td>\n",
       "      <td>Reg</td>\n",
       "      <td>Lvl</td>\n",
       "      <td>AllPub</td>\n",
       "      <td>Inside</td>\n",
       "      <td>...</td>\n",
       "      <td>0</td>\n",
       "      <td>NaN</td>\n",
       "      <td>NaN</td>\n",
       "      <td>NaN</td>\n",
       "      <td>0</td>\n",
       "      <td>6</td>\n",
       "      <td>2008</td>\n",
       "      <td>WD</td>\n",
       "      <td>Normal</td>\n",
       "      <td>147500</td>\n",
       "    </tr>\n",
       "  </tbody>\n",
       "</table>\n",
       "<p>1460 rows × 80 columns</p>\n",
       "</div>"
      ],
      "text/plain": [
       "      MSSubClass MSZoning  LotFrontage  LotArea Street Alley LotShape  \\\n",
       "Id                                                                      \n",
       "1             60       RL         65.0     8450   Pave   NaN      Reg   \n",
       "2             20       RL         80.0     9600   Pave   NaN      Reg   \n",
       "3             60       RL         68.0    11250   Pave   NaN      IR1   \n",
       "4             70       RL         60.0     9550   Pave   NaN      IR1   \n",
       "5             60       RL         84.0    14260   Pave   NaN      IR1   \n",
       "...          ...      ...          ...      ...    ...   ...      ...   \n",
       "1456          60       RL         62.0     7917   Pave   NaN      Reg   \n",
       "1457          20       RL         85.0    13175   Pave   NaN      Reg   \n",
       "1458          70       RL         66.0     9042   Pave   NaN      Reg   \n",
       "1459          20       RL         68.0     9717   Pave   NaN      Reg   \n",
       "1460          20       RL         75.0     9937   Pave   NaN      Reg   \n",
       "\n",
       "     LandContour Utilities LotConfig  ... PoolArea PoolQC  Fence MiscFeature  \\\n",
       "Id                                    ...                                      \n",
       "1            Lvl    AllPub    Inside  ...        0    NaN    NaN         NaN   \n",
       "2            Lvl    AllPub       FR2  ...        0    NaN    NaN         NaN   \n",
       "3            Lvl    AllPub    Inside  ...        0    NaN    NaN         NaN   \n",
       "4            Lvl    AllPub    Corner  ...        0    NaN    NaN         NaN   \n",
       "5            Lvl    AllPub       FR2  ...        0    NaN    NaN         NaN   \n",
       "...          ...       ...       ...  ...      ...    ...    ...         ...   \n",
       "1456         Lvl    AllPub    Inside  ...        0    NaN    NaN         NaN   \n",
       "1457         Lvl    AllPub    Inside  ...        0    NaN  MnPrv         NaN   \n",
       "1458         Lvl    AllPub    Inside  ...        0    NaN  GdPrv        Shed   \n",
       "1459         Lvl    AllPub    Inside  ...        0    NaN    NaN         NaN   \n",
       "1460         Lvl    AllPub    Inside  ...        0    NaN    NaN         NaN   \n",
       "\n",
       "     MiscVal MoSold  YrSold  SaleType  SaleCondition  SalePrice  \n",
       "Id                                                               \n",
       "1          0      2    2008        WD         Normal     208500  \n",
       "2          0      5    2007        WD         Normal     181500  \n",
       "3          0      9    2008        WD         Normal     223500  \n",
       "4          0      2    2006        WD        Abnorml     140000  \n",
       "5          0     12    2008        WD         Normal     250000  \n",
       "...      ...    ...     ...       ...            ...        ...  \n",
       "1456       0      8    2007        WD         Normal     175000  \n",
       "1457       0      2    2010        WD         Normal     210000  \n",
       "1458    2500      5    2010        WD         Normal     266500  \n",
       "1459       0      4    2010        WD         Normal     142125  \n",
       "1460       0      6    2008        WD         Normal     147500  \n",
       "\n",
       "[1460 rows x 80 columns]"
      ]
     },
     "execution_count": 3,
     "metadata": {},
     "output_type": "execute_result"
    }
   ],
   "source": [
    "train_df"
   ]
  },
  {
   "cell_type": "code",
   "execution_count": 4,
   "id": "95f76f77",
   "metadata": {},
   "outputs": [
    {
     "data": {
      "text/plain": [
       "MSSubClass\n",
       "20     536\n",
       "60     299\n",
       "50     144\n",
       "120     87\n",
       "30      69\n",
       "160     63\n",
       "70      60\n",
       "80      58\n",
       "90      52\n",
       "190     30\n",
       "85      20\n",
       "75      16\n",
       "45      12\n",
       "180     10\n",
       "40       4\n",
       "Name: count, dtype: int64"
      ]
     },
     "execution_count": 4,
     "metadata": {},
     "output_type": "execute_result"
    }
   ],
   "source": [
    "train_df['MSSubClass'].value_counts()"
   ]
  },
  {
   "cell_type": "code",
   "execution_count": 5,
   "id": "e2eed853",
   "metadata": {},
   "outputs": [
    {
     "data": {
      "text/plain": [
       "<Axes: xlabel='MSSubClass'>"
      ]
     },
     "execution_count": 5,
     "metadata": {},
     "output_type": "execute_result"
    },
    {
     "data": {
      "image/png": "[encoded data removed]",
      "text/plain": [
       "<Figure size 640x480 with 1 Axes>"
      ]
     },
     "metadata": {},
     "output_type": "display_data"
    }
   ],
   "source": [
    "train_df.groupby(\"MSSubClass\").agg({\"SalePrice\": \"mean\"}).plot(kind=\"bar\")"
   ]
  },
  {
   "cell_type": "code",
   "execution_count": 6,
   "id": "39e73a7b",
   "metadata": {},
   "outputs": [
    {
     "data": {
      "text/html": [
       "<div>\n",
       "<style scoped>\n",
       "    .dataframe tbody tr th:only-of-type {\n",
       "        vertical-align: middle;\n",
       "    }\n",
       "\n",
       "    .dataframe tbody tr th {\n",
       "        vertical-align: top;\n",
       "    }\n",
       "\n",
       "    .dataframe thead th {\n",
       "        text-align: right;\n",
       "    }\n",
       "</style>\n",
       "<table border=\"1\" class=\"dataframe\">\n",
       "  <thead>\n",
       "    <tr style=\"text-align: right;\">\n",
       "      <th></th>\n",
       "      <th>SalePrice</th>\n",
       "    </tr>\n",
       "    <tr>\n",
       "      <th>MSSubClass</th>\n",
       "      <th></th>\n",
       "    </tr>\n",
       "  </thead>\n",
       "  <tbody>\n",
       "    <tr>\n",
       "      <th>20</th>\n",
       "      <td>185224.811567</td>\n",
       "    </tr>\n",
       "    <tr>\n",
       "      <th>30</th>\n",
       "      <td>95829.724638</td>\n",
       "    </tr>\n",
       "    <tr>\n",
       "      <th>40</th>\n",
       "      <td>156125.000000</td>\n",
       "    </tr>\n",
       "    <tr>\n",
       "      <th>45</th>\n",
       "      <td>108591.666667</td>\n",
       "    </tr>\n",
       "    <tr>\n",
       "      <th>50</th>\n",
       "      <td>143302.972222</td>\n",
       "    </tr>\n",
       "    <tr>\n",
       "      <th>60</th>\n",
       "      <td>239948.501672</td>\n",
       "    </tr>\n",
       "    <tr>\n",
       "      <th>70</th>\n",
       "      <td>166772.416667</td>\n",
       "    </tr>\n",
       "    <tr>\n",
       "      <th>75</th>\n",
       "      <td>192437.500000</td>\n",
       "    </tr>\n",
       "    <tr>\n",
       "      <th>80</th>\n",
       "      <td>169736.551724</td>\n",
       "    </tr>\n",
       "    <tr>\n",
       "      <th>85</th>\n",
       "      <td>147810.000000</td>\n",
       "    </tr>\n",
       "    <tr>\n",
       "      <th>90</th>\n",
       "      <td>133541.076923</td>\n",
       "    </tr>\n",
       "    <tr>\n",
       "      <th>120</th>\n",
       "      <td>200779.080460</td>\n",
       "    </tr>\n",
       "    <tr>\n",
       "      <th>160</th>\n",
       "      <td>138647.380952</td>\n",
       "    </tr>\n",
       "    <tr>\n",
       "      <th>180</th>\n",
       "      <td>102300.000000</td>\n",
       "    </tr>\n",
       "    <tr>\n",
       "      <th>190</th>\n",
       "      <td>129613.333333</td>\n",
       "    </tr>\n",
       "  </tbody>\n",
       "</table>\n",
       "</div>"
      ],
      "text/plain": [
       "                SalePrice\n",
       "MSSubClass               \n",
       "20          185224.811567\n",
       "30           95829.724638\n",
       "40          156125.000000\n",
       "45          108591.666667\n",
       "50          143302.972222\n",
       "60          239948.501672\n",
       "70          166772.416667\n",
       "75          192437.500000\n",
       "80          169736.551724\n",
       "85          147810.000000\n",
       "90          133541.076923\n",
       "120         200779.080460\n",
       "160         138647.380952\n",
       "180         102300.000000\n",
       "190         129613.333333"
      ]
     },
     "execution_count": 6,
     "metadata": {},
     "output_type": "execute_result"
    }
   ],
   "source": [
    "train_df.groupby(\"MSSubClass\").agg({\"SalePrice\": \"mean\"})"
   ]
  },
  {
   "cell_type": "code",
   "execution_count": 7,
   "id": "8ed50295",
   "metadata": {},
   "outputs": [
    {
     "name": "stdout",
     "output_type": "stream",
     "text": [
      "Housing Price Statistics by Dwelling Type (MSSubClass):\n"
     ]
    },
    {
     "data": {
      "text/html": [
       "<div>\n",
       "<style scoped>\n",
       "    .dataframe tbody tr th:only-of-type {\n",
       "        vertical-align: middle;\n",
       "    }\n",
       "\n",
       "    .dataframe tbody tr th {\n",
       "        vertical-align: top;\n",
       "    }\n",
       "\n",
       "    .dataframe thead th {\n",
       "        text-align: right;\n",
       "    }\n",
       "</style>\n",
       "<table border=\"1\" class=\"dataframe\">\n",
       "  <thead>\n",
       "    <tr style=\"text-align: right;\">\n",
       "      <th></th>\n",
       "      <th>Average Price ($)</th>\n",
       "      <th>Number of Houses</th>\n",
       "    </tr>\n",
       "    <tr>\n",
       "      <th>MSSubClass</th>\n",
       "      <th></th>\n",
       "      <th></th>\n",
       "    </tr>\n",
       "  </thead>\n",
       "  <tbody>\n",
       "    <tr>\n",
       "      <th>60</th>\n",
       "      <td>239948.50</td>\n",
       "      <td>299</td>\n",
       "    </tr>\n",
       "    <tr>\n",
       "      <th>120</th>\n",
       "      <td>200779.08</td>\n",
       "      <td>87</td>\n",
       "    </tr>\n",
       "    <tr>\n",
       "      <th>75</th>\n",
       "      <td>192437.50</td>\n",
       "      <td>16</td>\n",
       "    </tr>\n",
       "    <tr>\n",
       "      <th>20</th>\n",
       "      <td>185224.81</td>\n",
       "      <td>536</td>\n",
       "    </tr>\n",
       "    <tr>\n",
       "      <th>80</th>\n",
       "      <td>169736.55</td>\n",
       "      <td>58</td>\n",
       "    </tr>\n",
       "    <tr>\n",
       "      <th>70</th>\n",
       "      <td>166772.42</td>\n",
       "      <td>60</td>\n",
       "    </tr>\n",
       "    <tr>\n",
       "      <th>40</th>\n",
       "      <td>156125.00</td>\n",
       "      <td>4</td>\n",
       "    </tr>\n",
       "    <tr>\n",
       "      <th>85</th>\n",
       "      <td>147810.00</td>\n",
       "      <td>20</td>\n",
       "    </tr>\n",
       "    <tr>\n",
       "      <th>50</th>\n",
       "      <td>143302.97</td>\n",
       "      <td>144</td>\n",
       "    </tr>\n",
       "    <tr>\n",
       "      <th>160</th>\n",
       "      <td>138647.38</td>\n",
       "      <td>63</td>\n",
       "    </tr>\n",
       "    <tr>\n",
       "      <th>90</th>\n",
       "      <td>133541.08</td>\n",
       "      <td>52</td>\n",
       "    </tr>\n",
       "    <tr>\n",
       "      <th>190</th>\n",
       "      <td>129613.33</td>\n",
       "      <td>30</td>\n",
       "    </tr>\n",
       "    <tr>\n",
       "      <th>45</th>\n",
       "      <td>108591.67</td>\n",
       "      <td>12</td>\n",
       "    </tr>\n",
       "    <tr>\n",
       "      <th>180</th>\n",
       "      <td>102300.00</td>\n",
       "      <td>10</td>\n",
       "    </tr>\n",
       "    <tr>\n",
       "      <th>30</th>\n",
       "      <td>95829.72</td>\n",
       "      <td>69</td>\n",
       "    </tr>\n",
       "  </tbody>\n",
       "</table>\n",
       "</div>"
      ],
      "text/plain": [
       "            Average Price ($)  Number of Houses\n",
       "MSSubClass                                     \n",
       "60                  239948.50               299\n",
       "120                 200779.08                87\n",
       "75                  192437.50                16\n",
       "20                  185224.81               536\n",
       "80                  169736.55                58\n",
       "70                  166772.42                60\n",
       "40                  156125.00                 4\n",
       "85                  147810.00                20\n",
       "50                  143302.97               144\n",
       "160                 138647.38                63\n",
       "90                  133541.08                52\n",
       "190                 129613.33                30\n",
       "45                  108591.67                12\n",
       "180                 102300.00                10\n",
       "30                   95829.72                69"
      ]
     },
     "execution_count": 7,
     "metadata": {},
     "output_type": "execute_result"
    }
   ],
   "source": [
    "# Get both mean sale price and count for each MSSubClass\n",
    "ms_subclass_stats = train_df.groupby(\"MSSubClass\").agg(\n",
    "    Mean_SalePrice=('SalePrice', 'mean'),\n",
    "    Count=('SalePrice', 'count')\n",
    ").sort_values('Mean_SalePrice', ascending=False)\n",
    "\n",
    "# Format the output for better readability\n",
    "ms_subclass_stats['Mean_SalePrice'] = ms_subclass_stats['Mean_SalePrice'].round(2)\n",
    "ms_subclass_stats = ms_subclass_stats.rename(columns={\n",
    "    'Mean_SalePrice': 'Average Price ($)',\n",
    "    'Count': 'Number of Houses'\n",
    "})\n",
    "\n",
    "# Display the results\n",
    "print(\"Housing Price Statistics by Dwelling Type (MSSubClass):\")\n",
    "ms_subclass_stats"
   ]
  },
  {
   "cell_type": "code",
   "execution_count": 8,
   "id": "f8947201",
   "metadata": {},
   "outputs": [
    {
     "data": {
      "text/plain": [
       "count       299.000000\n",
       "mean     239948.501672\n",
       "std       86579.909966\n",
       "min      129000.000000\n",
       "25%      185000.000000\n",
       "50%      215200.000000\n",
       "75%      268750.000000\n",
       "max      755000.000000\n",
       "Name: SalePrice, dtype: float64"
      ]
     },
     "execution_count": 8,
     "metadata": {},
     "output_type": "execute_result"
    }
   ],
   "source": [
    "train_df[train_df['MSSubClass'] == 60]['SalePrice'].describe()"
   ]
  },
  {
   "cell_type": "code",
   "execution_count": 9,
   "id": "e4e5f4e0",
   "metadata": {},
   "outputs": [
    {
     "name": "stdout",
     "output_type": "stream",
     "text": [
      "MSSubClass 60 Price Analysis:\n",
      "Q1 (25th percentile): $185,000.00\n",
      "Q3 (75th percentile): $268,750.00\n",
      "IQR: $83,750.00\n",
      "\n",
      "Outlier Bounds:\n",
      "Lower Bound (Q1 - 1.5*IQR): $59,375.00\n",
      "Upper Bound (Q3 + 1.5*IQR): $394,375.00\n",
      "\n",
      "Potential Outliers:\n",
      "Found 16 potential outliers\n",
      "Id\n",
      "662     402000\n",
      "232     403000\n",
      "162     412500\n",
      "1143    424870\n",
      "390     426000\n",
      "350     437154\n",
      "59      438780\n",
      "528     446261\n",
      "592     451950\n",
      "799     485000\n",
      "770     538000\n",
      "1047    556581\n",
      "804     582933\n",
      "1170    625000\n",
      "1183    745000\n",
      "692     755000\n",
      "Name: SalePrice, dtype: int64\n"
     ]
    }
   ],
   "source": [
    "# Calculate price statistics for MSSubClass 60\n",
    "ms60_prices = train_df[train_df['MSSubClass'] == 60]['SalePrice']\n",
    "Q1 = ms60_prices.quantile(0.25)\n",
    "Q3 = ms60_prices.quantile(0.75)\n",
    "IQR = Q3 - Q1\n",
    "\n",
    "# Define outlier bounds\n",
    "lower_bound = Q1 - 1.5 * IQR\n",
    "upper_bound = Q3 + 1.5 * IQR\n",
    "\n",
    "# Find potential outliers\n",
    "outliers = ms60_prices[(ms60_prices < lower_bound) | (ms60_prices > upper_bound)]\n",
    "\n",
    "# Display results\n",
    "print(f\"MSSubClass 60 Price Analysis:\")\n",
    "print(f\"Q1 (25th percentile): ${Q1:,.2f}\")\n",
    "print(f\"Q3 (75th percentile): ${Q3:,.2f}\")\n",
    "print(f\"IQR: ${IQR:,.2f}\")\n",
    "print(f\"\\nOutlier Bounds:\")\n",
    "print(f\"Lower Bound (Q1 - 1.5*IQR): ${lower_bound:,.2f}\")\n",
    "print(f\"Upper Bound (Q3 + 1.5*IQR): ${upper_bound:,.2f}\")\n",
    "\n",
    "print(\"\\nPotential Outliers:\")\n",
    "if len(outliers) > 0:\n",
    "    print(f\"Found {len(outliers)} potential outliers\")\n",
    "    print(outliers.sort_values())\n",
    "else:\n",
    "    print(\"No outliers detected using IQR method\")"
   ]
  },
  {
   "cell_type": "code",
   "execution_count": 10,
   "id": "04710fcb",
   "metadata": {},
   "outputs": [
    {
     "data": {
      "text/plain": [
       "np.int64(16)"
      ]
     },
     "execution_count": 10,
     "metadata": {},
     "output_type": "execute_result"
    }
   ],
   "source": [
    "outliers.count()"
   ]
  },
  {
   "cell_type": "code",
   "execution_count": 11,
   "id": "7706116f",
   "metadata": {},
   "outputs": [
    {
     "data": {
      "text/plain": [
       "np.float64(0.11331903409262763)"
      ]
     },
     "execution_count": 11,
     "metadata": {},
     "output_type": "execute_result"
    }
   ],
   "source": [
    "outliers.sum()/ms60_prices.sum()"
   ]
  },
  {
   "cell_type": "code",
   "execution_count": 12,
   "id": "c6c52081",
   "metadata": {},
   "outputs": [
    {
     "data": {
      "text/plain": [
       "np.float64(224786.47703180212)"
      ]
     },
     "execution_count": 12,
     "metadata": {},
     "output_type": "execute_result"
    }
   ],
   "source": [
    "train_df[(train_df['MSSubClass'] == 60) & (train_df['SalePrice'] > 59375.00) & (train_df['SalePrice'] < 394375.00)]['SalePrice'].mean()"
   ]
  },
  {
   "cell_type": "code",
   "execution_count": 13,
   "id": "8fea55ab",
   "metadata": {},
   "outputs": [
    {
     "data": {
      "text/html": [
       "<div>\n",
       "<style scoped>\n",
       "    .dataframe tbody tr th:only-of-type {\n",
       "        vertical-align: middle;\n",
       "    }\n",
       "\n",
       "    .dataframe tbody tr th {\n",
       "        vertical-align: top;\n",
       "    }\n",
       "\n",
       "    .dataframe thead th {\n",
       "        text-align: right;\n",
       "    }\n",
       "</style>\n",
       "<table border=\"1\" class=\"dataframe\">\n",
       "  <thead>\n",
       "    <tr style=\"text-align: right;\">\n",
       "      <th></th>\n",
       "      <th>MSSubClass</th>\n",
       "      <th>n_homes</th>\n",
       "      <th>mean_price</th>\n",
       "      <th>median_price</th>\n",
       "      <th>mean_no_outliers</th>\n",
       "      <th>outliers_count</th>\n",
       "      <th>outliers_percent</th>\n",
       "      <th>outliers_price_percent</th>\n",
       "    </tr>\n",
       "  </thead>\n",
       "  <tbody>\n",
       "    <tr>\n",
       "      <th>0</th>\n",
       "      <td>60</td>\n",
       "      <td>299</td>\n",
       "      <td>239948.501672</td>\n",
       "      <td>215200.0</td>\n",
       "      <td>224786.477032</td>\n",
       "      <td>16</td>\n",
       "      <td>5.351171</td>\n",
       "      <td>11.331903</td>\n",
       "    </tr>\n",
       "    <tr>\n",
       "      <th>1</th>\n",
       "      <td>120</td>\n",
       "      <td>87</td>\n",
       "      <td>200779.080460</td>\n",
       "      <td>192000.0</td>\n",
       "      <td>196564.541176</td>\n",
       "      <td>2</td>\n",
       "      <td>2.298851</td>\n",
       "      <td>4.349688</td>\n",
       "    </tr>\n",
       "    <tr>\n",
       "      <th>2</th>\n",
       "      <td>75</td>\n",
       "      <td>16</td>\n",
       "      <td>192437.500000</td>\n",
       "      <td>163500.0</td>\n",
       "      <td>173600.000000</td>\n",
       "      <td>1</td>\n",
       "      <td>6.250000</td>\n",
       "      <td>15.427087</td>\n",
       "    </tr>\n",
       "    <tr>\n",
       "      <th>3</th>\n",
       "      <td>20</td>\n",
       "      <td>536</td>\n",
       "      <td>185224.811567</td>\n",
       "      <td>159250.0</td>\n",
       "      <td>172664.860236</td>\n",
       "      <td>28</td>\n",
       "      <td>5.223881</td>\n",
       "      <td>11.650576</td>\n",
       "    </tr>\n",
       "    <tr>\n",
       "      <th>4</th>\n",
       "      <td>80</td>\n",
       "      <td>58</td>\n",
       "      <td>169736.551724</td>\n",
       "      <td>166500.0</td>\n",
       "      <td>161254.629630</td>\n",
       "      <td>4</td>\n",
       "      <td>6.896552</td>\n",
       "      <td>11.549033</td>\n",
       "    </tr>\n",
       "    <tr>\n",
       "      <th>5</th>\n",
       "      <td>70</td>\n",
       "      <td>60</td>\n",
       "      <td>166772.416667</td>\n",
       "      <td>156000.0</td>\n",
       "      <td>160900.775862</td>\n",
       "      <td>2</td>\n",
       "      <td>3.333333</td>\n",
       "      <td>6.736726</td>\n",
       "    </tr>\n",
       "    <tr>\n",
       "      <th>6</th>\n",
       "      <td>85</td>\n",
       "      <td>20</td>\n",
       "      <td>147810.000000</td>\n",
       "      <td>140750.0</td>\n",
       "      <td>145142.105263</td>\n",
       "      <td>1</td>\n",
       "      <td>5.000000</td>\n",
       "      <td>6.714701</td>\n",
       "    </tr>\n",
       "    <tr>\n",
       "      <th>7</th>\n",
       "      <td>50</td>\n",
       "      <td>144</td>\n",
       "      <td>143302.972222</td>\n",
       "      <td>132000.0</td>\n",
       "      <td>131832.893939</td>\n",
       "      <td>12</td>\n",
       "      <td>8.333333</td>\n",
       "      <td>15.670403</td>\n",
       "    </tr>\n",
       "    <tr>\n",
       "      <th>8</th>\n",
       "      <td>160</td>\n",
       "      <td>63</td>\n",
       "      <td>138647.380952</td>\n",
       "      <td>146000.0</td>\n",
       "      <td>138647.380952</td>\n",
       "      <td>0</td>\n",
       "      <td>0.000000</td>\n",
       "      <td>0.000000</td>\n",
       "    </tr>\n",
       "    <tr>\n",
       "      <th>9</th>\n",
       "      <td>90</td>\n",
       "      <td>52</td>\n",
       "      <td>133541.076923</td>\n",
       "      <td>135980.0</td>\n",
       "      <td>128329.916667</td>\n",
       "      <td>4</td>\n",
       "      <td>7.692308</td>\n",
       "      <td>11.294422</td>\n",
       "    </tr>\n",
       "    <tr>\n",
       "      <th>10</th>\n",
       "      <td>190</td>\n",
       "      <td>30</td>\n",
       "      <td>129613.333333</td>\n",
       "      <td>128250.0</td>\n",
       "      <td>126090.740741</td>\n",
       "      <td>3</td>\n",
       "      <td>10.000000</td>\n",
       "      <td>12.445993</td>\n",
       "    </tr>\n",
       "    <tr>\n",
       "      <th>11</th>\n",
       "      <td>45</td>\n",
       "      <td>12</td>\n",
       "      <td>108591.666667</td>\n",
       "      <td>107500.0</td>\n",
       "      <td>108591.666667</td>\n",
       "      <td>0</td>\n",
       "      <td>0.000000</td>\n",
       "      <td>0.000000</td>\n",
       "    </tr>\n",
       "    <tr>\n",
       "      <th>12</th>\n",
       "      <td>180</td>\n",
       "      <td>10</td>\n",
       "      <td>102300.000000</td>\n",
       "      <td>88500.0</td>\n",
       "      <td>102300.000000</td>\n",
       "      <td>0</td>\n",
       "      <td>0.000000</td>\n",
       "      <td>0.000000</td>\n",
       "    </tr>\n",
       "    <tr>\n",
       "      <th>13</th>\n",
       "      <td>30</td>\n",
       "      <td>69</td>\n",
       "      <td>95829.724638</td>\n",
       "      <td>99900.0</td>\n",
       "      <td>95729.119403</td>\n",
       "      <td>2</td>\n",
       "      <td>2.898551</td>\n",
       "      <td>3.000491</td>\n",
       "    </tr>\n",
       "  </tbody>\n",
       "</table>\n",
       "</div>"
      ],
      "text/plain": [
       "    MSSubClass  n_homes     mean_price  median_price  mean_no_outliers  \\\n",
       "0           60      299  239948.501672      215200.0     224786.477032   \n",
       "1          120       87  200779.080460      192000.0     196564.541176   \n",
       "2           75       16  192437.500000      163500.0     173600.000000   \n",
       "3           20      536  185224.811567      159250.0     172664.860236   \n",
       "4           80       58  169736.551724      166500.0     161254.629630   \n",
       "5           70       60  166772.416667      156000.0     160900.775862   \n",
       "6           85       20  147810.000000      140750.0     145142.105263   \n",
       "7           50      144  143302.972222      132000.0     131832.893939   \n",
       "8          160       63  138647.380952      146000.0     138647.380952   \n",
       "9           90       52  133541.076923      135980.0     128329.916667   \n",
       "10         190       30  129613.333333      128250.0     126090.740741   \n",
       "11          45       12  108591.666667      107500.0     108591.666667   \n",
       "12         180       10  102300.000000       88500.0     102300.000000   \n",
       "13          30       69   95829.724638       99900.0      95729.119403   \n",
       "\n",
       "    outliers_count  outliers_percent  outliers_price_percent  \n",
       "0               16          5.351171               11.331903  \n",
       "1                2          2.298851                4.349688  \n",
       "2                1          6.250000               15.427087  \n",
       "3               28          5.223881               11.650576  \n",
       "4                4          6.896552               11.549033  \n",
       "5                2          3.333333                6.736726  \n",
       "6                1          5.000000                6.714701  \n",
       "7               12          8.333333               15.670403  \n",
       "8                0          0.000000                0.000000  \n",
       "9                4          7.692308               11.294422  \n",
       "10               3         10.000000               12.445993  \n",
       "11               0          0.000000                0.000000  \n",
       "12               0          0.000000                0.000000  \n",
       "13               2          2.898551                3.000491  "
      ]
     },
     "execution_count": 13,
     "metadata": {},
     "output_type": "execute_result"
    }
   ],
   "source": [
    "def analyze_ms_subclass(df, ms_class):\n",
    "    # Filter data for the specific MSSubClass\n",
    "    prices = df[df['MSSubClass'] == ms_class]['SalePrice']\n",
    "    n_homes = len(prices)\n",
    "    \n",
    "    # Skip if not enough data\n",
    "    if n_homes < 5:  # Minimum sample size for meaningful stats\n",
    "        return None\n",
    "    \n",
    "    # Calculate statistics\n",
    "    stats = {\n",
    "        'MSSubClass': ms_class,\n",
    "        'n_homes': n_homes,\n",
    "        'mean_price': prices.mean(),\n",
    "        'median_price': prices.median(),\n",
    "        'min_price': prices.min(),\n",
    "        'max_price': prices.max(),\n",
    "        'q1': prices.quantile(0.25),\n",
    "        'q3': prices.quantile(0.75),\n",
    "        'outliers_count': 0,\n",
    "        'outliers_percent': 0,\n",
    "        'outliers_price_percent': 0\n",
    "    }\n",
    "    \n",
    "    # Calculate IQR and bounds\n",
    "    iqr = stats['q3'] - stats['q1']\n",
    "    lower_bound = stats['q1'] - 1.5 * iqr\n",
    "    upper_bound = stats['q3'] + 1.5 * iqr\n",
    "    \n",
    "    # Find outliers\n",
    "    outliers = prices[(prices < lower_bound) | (prices > upper_bound)]\n",
    "    stats['outliers_count'] = len(outliers)\n",
    "    stats['outliers_percent'] = (len(outliers) / n_homes) * 100\n",
    "    stats['outliers_price_percent'] = (outliers.sum() / prices.sum()) * 100\n",
    "    \n",
    "    # Calculate mean without outliers\n",
    "    inliers = prices[(prices >= lower_bound) & (prices <= upper_bound)]\n",
    "    stats['mean_no_outliers'] = inliers.mean()\n",
    "    \n",
    "    return stats\n",
    "\n",
    "# Get unique MSSubClass values\n",
    "ms_classes = sorted(train_df['MSSubClass'].unique())\n",
    "\n",
    "# Analyze each MSSubClass\n",
    "results = []\n",
    "for ms_class in ms_classes:\n",
    "    result = analyze_ms_subclass(train_df, ms_class)\n",
    "    if result:  # Only include if we have enough data\n",
    "        results.append(result)\n",
    "\n",
    "# Convert to DataFrame\n",
    "results_df = pd.DataFrame(results)\n",
    "\n",
    "# Format the output\n",
    "# pd.set_option('display.float_format', '${:,.2f}'.format)\n",
    "display_cols = ['MSSubClass', 'n_homes', 'mean_price', 'median_price', 'mean_no_outliers', \n",
    "                'outliers_count', 'outliers_percent', 'outliers_price_percent']\n",
    "results_df[display_cols].sort_values('mean_price', ascending=False).reset_index(drop=True)"
   ]
  },
  {
   "cell_type": "code",
   "execution_count": 14,
   "id": "2780117f",
   "metadata": {},
   "outputs": [
    {
     "data": {
      "text/plain": [
       "<Axes: xlabel='MSSubClass'>"
      ]
     },
     "execution_count": 14,
     "metadata": {},
     "output_type": "execute_result"
    },
    {
     "data": {
      "image/png": "[encoded data removed]",
      "text/plain": [
       "<Figure size 640x480 with 1 Axes>"
      ]
     },
     "metadata": {},
     "output_type": "display_data"
    }
   ],
   "source": [
    "train_df.groupby(\"MSSubClass\").agg({\"SalePrice\": \"mean\"}).plot(kind=\"bar\")"
   ]
  },
  {
   "cell_type": "markdown",
   "id": "e05c8f9a",
   "metadata": {},
   "source": [
    "MSSubClass: Identifies the type of dwelling involved in the sale.\t\n",
    "\n",
    "        20\t1-STORY 1946 & NEWER ALL STYLES\n",
    "        30\t1-STORY 1945 & OLDER\n",
    "        40\t1-STORY W/FINISHED ATTIC ALL AGES\n",
    "        45\t1-1/2 STORY - UNFINISHED ALL AGES\n",
    "        50\t1-1/2 STORY FINISHED ALL AGES\n",
    "        60\t2-STORY 1946 & NEWER\n",
    "        70\t2-STORY 1945 & OLDER\n",
    "        75\t2-1/2 STORY ALL AGES\n",
    "        80\tSPLIT OR MULTI-LEVEL\n",
    "        85\tSPLIT FOYER\n",
    "        90\tDUPLEX - ALL STYLES AND AGES\n",
    "       120\t1-STORY PUD (Planned Unit Development) - 1946 & NEWER\n",
    "       150\t1-1/2 STORY PUD - ALL AGES\n",
    "       160\t2-STORY PUD - 1946 & NEWER\n",
    "       180\tPUD - MULTILEVEL - INCL SPLIT LEV/FOYER\n",
    "       190\t2 FAMILY CONVERSION - ALL STYLES AND AGES\n"
   ]
  },
  {
   "cell_type": "code",
   "execution_count": 15,
   "id": "b48af146",
   "metadata": {},
   "outputs": [
    {
     "data": {
      "text/plain": [
       "np.int64(0)"
      ]
     },
     "execution_count": 15,
     "metadata": {},
     "output_type": "execute_result"
    }
   ],
   "source": [
    "train_df['MSSubClass'].isnull().sum()"
   ]
  },
  {
   "cell_type": "markdown",
   "id": "c1c3dd33",
   "metadata": {},
   "source": [
    "# Housing Price Analysis by Dwelling Type (MSSubClass)\n",
    "\n",
    "## Key Findings\n",
    "\n",
    "### Premium Housing Segments\n",
    "- **2-STORY 1946 & NEWER (60)**: $239,949\n",
    "  - Highest average price ($224,787 without outliers)\n",
    "  - Represents 17% of all analyzed homes (299/1,500)\n",
    "  - Outliers (5.4% of category) contribute 11% to total category value\n",
    "  - Median price ($215,200) indicates slight right skew\n",
    "\n",
    "- **1-STORY PUD 1946 & NEWER (120)**: $200,779\n",
    "  - Minimal outlier impact (2.3% of homes, 4.3% of value)\n",
    "  - Strong median price of $192,000 suggests stable pricing\n",
    "\n",
    "### Mid-Market Categories\n",
    "- **2-1/2 STORY (75)**: $192,438\n",
    "  - Limited inventory (16 homes)\n",
    "  - Significant outlier impact (6.3% of homes, 15.4% of value)\n",
    "  \n",
    "- **1-STORY 1946 & NEWER (20)**: $185,225\n",
    "  - Largest category (536 homes, 36% of sample)\n",
    "  - Consistent median price ($159,250) suggests reliable market segment\n",
    "\n",
    "### Value Segments\n",
    "- **1-STORY 1945 & OLDER (30)**: $95,830\n",
    "  - Most affordable option\n",
    "  - Minimal outlier impact (2.9% of homes, 3% of value)\n",
    "  - Median price ($99,900) close to mean indicates normal distribution\n",
    "\n",
    "## Statistical Insights\n",
    "\n",
    "### Outlier Analysis\n",
    "1. **High-Value Outliers**:\n",
    "   - 2-1/2 STORY (75): Single outlier accounts for 15.4% of category value\n",
    "   - 1-1/2 STORY (50): 8.3% of homes contribute 15.7% of value\n",
    "\n",
    "2. **Stable Categories**:\n",
    "   - PUD 1946 & NEWER (120): Minimal outlier impact\n",
    "   - 2-STORY 1945 & OLDER (70): Only 3.3% outliers\n",
    "\n",
    "## Market Implications\n",
    "\n",
    "### For Homebuyers\n",
    "- **Premium Choice**: 2-STORY 1946 & NEWER offers best long-term value\n",
    "- **Budget Option**: 1-STORY 1945 & OLDER provides most affordable entry point\n",
    "- **Emerging Market**: 1-STORY PUD shows strong value retention\n",
    "\n",
    "### For Sellers\n",
    "- **Premium Pricing**: 2-1/2 STORY commands highest prices but limited market\n",
    "- **Volume Opportunity**: 1-STORY 1946 & NEWER offers largest buyer pool\n",
    "\n",
    "### For Developers\n",
    "- **High Potential**: PUD developments show strong market position\n",
    "- **Niche Markets**: 2-1/2 STORY properties command premium pricing\n",
    "\n",
    "## Data Quality Notes\n",
    "- All categories have sufficient sample size (n>10)\n",
    "- Outliers appear to represent legitimate market variation\n",
    "- Price distributions generally follow expected patterns for housing types"
   ]
  },
  {
   "cell_type": "code",
   "execution_count": 16,
   "id": "4500c51b",
   "metadata": {},
   "outputs": [
    {
     "data": {
      "text/plain": [
       "MSZoning\n",
       "RL         1151\n",
       "RM          218\n",
       "FV           65\n",
       "RH           16\n",
       "C (all)      10\n",
       "Name: count, dtype: int64"
      ]
     },
     "execution_count": 16,
     "metadata": {},
     "output_type": "execute_result"
    }
   ],
   "source": [
    "train_df['MSZoning'].value_counts()"
   ]
  },
  {
   "cell_type": "code",
   "execution_count": 17,
   "id": "c9f63e8a",
   "metadata": {},
   "outputs": [
    {
     "data": {
      "text/html": [
       "<div>\n",
       "<style scoped>\n",
       "    .dataframe tbody tr th:only-of-type {\n",
       "        vertical-align: middle;\n",
       "    }\n",
       "\n",
       "    .dataframe tbody tr th {\n",
       "        vertical-align: top;\n",
       "    }\n",
       "\n",
       "    .dataframe thead th {\n",
       "        text-align: right;\n",
       "    }\n",
       "</style>\n",
       "<table border=\"1\" class=\"dataframe\">\n",
       "  <thead>\n",
       "    <tr style=\"text-align: right;\">\n",
       "      <th></th>\n",
       "      <th>SalePrice</th>\n",
       "    </tr>\n",
       "    <tr>\n",
       "      <th>MSZoning</th>\n",
       "      <th></th>\n",
       "    </tr>\n",
       "  </thead>\n",
       "  <tbody>\n",
       "    <tr>\n",
       "      <th>FV</th>\n",
       "      <td>214014.061538</td>\n",
       "    </tr>\n",
       "    <tr>\n",
       "      <th>RL</th>\n",
       "      <td>191004.994787</td>\n",
       "    </tr>\n",
       "    <tr>\n",
       "      <th>RH</th>\n",
       "      <td>131558.375000</td>\n",
       "    </tr>\n",
       "    <tr>\n",
       "      <th>RM</th>\n",
       "      <td>126316.830275</td>\n",
       "    </tr>\n",
       "    <tr>\n",
       "      <th>C (all)</th>\n",
       "      <td>74528.000000</td>\n",
       "    </tr>\n",
       "  </tbody>\n",
       "</table>\n",
       "</div>"
      ],
      "text/plain": [
       "              SalePrice\n",
       "MSZoning               \n",
       "FV        214014.061538\n",
       "RL        191004.994787\n",
       "RH        131558.375000\n",
       "RM        126316.830275\n",
       "C (all)    74528.000000"
      ]
     },
     "execution_count": 17,
     "metadata": {},
     "output_type": "execute_result"
    }
   ],
   "source": [
    "train_df.groupby('MSZoning').agg({'SalePrice': 'mean'}).sort_values(by='SalePrice', ascending=False)"
   ]
  },
  {
   "cell_type": "code",
   "execution_count": 18,
   "id": "5a23dd99",
   "metadata": {},
   "outputs": [
    {
     "data": {
      "text/html": [
       "<div>\n",
       "<style scoped>\n",
       "    .dataframe tbody tr th:only-of-type {\n",
       "        vertical-align: middle;\n",
       "    }\n",
       "\n",
       "    .dataframe tbody tr th {\n",
       "        vertical-align: top;\n",
       "    }\n",
       "\n",
       "    .dataframe thead th {\n",
       "        text-align: right;\n",
       "    }\n",
       "</style>\n",
       "<table border=\"1\" class=\"dataframe\">\n",
       "  <thead>\n",
       "    <tr style=\"text-align: right;\">\n",
       "      <th></th>\n",
       "      <th>MSZoning</th>\n",
       "      <th>n_homes</th>\n",
       "      <th>mean_price</th>\n",
       "      <th>median_price</th>\n",
       "      <th>mean_no_outliers</th>\n",
       "      <th>outliers_count</th>\n",
       "      <th>outliers_percent</th>\n",
       "      <th>outliers_price_percent</th>\n",
       "    </tr>\n",
       "  </thead>\n",
       "  <tbody>\n",
       "    <tr>\n",
       "      <th>0</th>\n",
       "      <td>FV</td>\n",
       "      <td>65</td>\n",
       "      <td>214014.061538</td>\n",
       "      <td>205950.0</td>\n",
       "      <td>211563.06250</td>\n",
       "      <td>1</td>\n",
       "      <td>1.538462</td>\n",
       "      <td>2.666094</td>\n",
       "    </tr>\n",
       "    <tr>\n",
       "      <th>1</th>\n",
       "      <td>RL</td>\n",
       "      <td>1151</td>\n",
       "      <td>191004.994787</td>\n",
       "      <td>174000.0</td>\n",
       "      <td>179725.30881</td>\n",
       "      <td>50</td>\n",
       "      <td>4.344049</td>\n",
       "      <td>9.992954</td>\n",
       "    </tr>\n",
       "    <tr>\n",
       "      <th>2</th>\n",
       "      <td>RH</td>\n",
       "      <td>16</td>\n",
       "      <td>131558.375000</td>\n",
       "      <td>136500.0</td>\n",
       "      <td>131558.37500</td>\n",
       "      <td>0</td>\n",
       "      <td>0.000000</td>\n",
       "      <td>0.000000</td>\n",
       "    </tr>\n",
       "    <tr>\n",
       "      <th>3</th>\n",
       "      <td>RM</td>\n",
       "      <td>218</td>\n",
       "      <td>126316.830275</td>\n",
       "      <td>120500.0</td>\n",
       "      <td>118678.21256</td>\n",
       "      <td>11</td>\n",
       "      <td>5.045872</td>\n",
       "      <td>10.787927</td>\n",
       "    </tr>\n",
       "    <tr>\n",
       "      <th>4</th>\n",
       "      <td>C (all)</td>\n",
       "      <td>10</td>\n",
       "      <td>74528.000000</td>\n",
       "      <td>74700.0</td>\n",
       "      <td>74528.00000</td>\n",
       "      <td>0</td>\n",
       "      <td>0.000000</td>\n",
       "      <td>0.000000</td>\n",
       "    </tr>\n",
       "  </tbody>\n",
       "</table>\n",
       "</div>"
      ],
      "text/plain": [
       "  MSZoning  n_homes     mean_price  median_price  mean_no_outliers  \\\n",
       "0       FV       65  214014.061538      205950.0      211563.06250   \n",
       "1       RL     1151  191004.994787      174000.0      179725.30881   \n",
       "2       RH       16  131558.375000      136500.0      131558.37500   \n",
       "3       RM      218  126316.830275      120500.0      118678.21256   \n",
       "4  C (all)       10   74528.000000       74700.0       74528.00000   \n",
       "\n",
       "   outliers_count  outliers_percent  outliers_price_percent  \n",
       "0               1          1.538462                2.666094  \n",
       "1              50          4.344049                9.992954  \n",
       "2               0          0.000000                0.000000  \n",
       "3              11          5.045872               10.787927  \n",
       "4               0          0.000000                0.000000  "
      ]
     },
     "execution_count": 18,
     "metadata": {},
     "output_type": "execute_result"
    }
   ],
   "source": [
    "def analyze_ms_subclass(df, ms_class):\n",
    "    # Filter data for the specific MSSubClass\n",
    "    prices = df[df['MSZoning'] == ms_class]['SalePrice']\n",
    "    n_homes = len(prices)\n",
    "    \n",
    "    # Skip if not enough data\n",
    "    if n_homes < 5:  # Minimum sample size for meaningful stats\n",
    "        return None\n",
    "    \n",
    "    # Calculate statistics\n",
    "    stats = {\n",
    "        'MSZoning': ms_class,\n",
    "        'n_homes': n_homes,\n",
    "        'mean_price': prices.mean(),\n",
    "        'median_price': prices.median(),\n",
    "        'min_price': prices.min(),\n",
    "        'max_price': prices.max(),\n",
    "        'q1': prices.quantile(0.25),\n",
    "        'q3': prices.quantile(0.75),\n",
    "        'outliers_count': 0,\n",
    "        'outliers_percent': 0,\n",
    "        'outliers_price_percent': 0\n",
    "    }\n",
    "    \n",
    "    # Calculate IQR and bounds\n",
    "    iqr = stats['q3'] - stats['q1']\n",
    "    lower_bound = stats['q1'] - 1.5 * iqr\n",
    "    upper_bound = stats['q3'] + 1.5 * iqr\n",
    "    \n",
    "    # Find outliers\n",
    "    outliers = prices[(prices < lower_bound) | (prices > upper_bound)]\n",
    "    stats['outliers_count'] = len(outliers)\n",
    "    stats['outliers_percent'] = (len(outliers) / n_homes) * 100\n",
    "    stats['outliers_price_percent'] = (outliers.sum() / prices.sum()) * 100\n",
    "    \n",
    "    # Calculate mean without outliers\n",
    "    inliers = prices[(prices >= lower_bound) & (prices <= upper_bound)]\n",
    "    stats['mean_no_outliers'] = inliers.mean()\n",
    "    \n",
    "    return stats\n",
    "\n",
    "# Get unique MSSubClass values\n",
    "ms_classes = sorted(train_df['MSZoning'].unique())\n",
    "\n",
    "# Analyze each MSSubClass\n",
    "results = []\n",
    "for ms_class in ms_classes:\n",
    "    result = analyze_ms_subclass(train_df, ms_class)\n",
    "    if result:  # Only include if we have enough data\n",
    "        results.append(result)\n",
    "\n",
    "# Convert to DataFrame\n",
    "results_df = pd.DataFrame(results)\n",
    "\n",
    "# Format the output\n",
    "# # pd.set_option('display.float_format', '${:,.2f}'.format)\n",
    "display_cols = ['MSZoning', 'n_homes', 'mean_price', 'median_price', 'mean_no_outliers', \n",
    "                'outliers_count', 'outliers_percent', 'outliers_price_percent']\n",
    "results_df[display_cols].sort_values('mean_price', ascending=False).reset_index(drop=True)"
   ]
  },
  {
   "cell_type": "markdown",
   "id": "10726ada",
   "metadata": {},
   "source": [
    "MSZoning: Identifies the general zoning classification of the sale.\n",
    "\t\t\n",
    "       A\tAgriculture\n",
    "       C\tCommercial\n",
    "       FV\tFloating Village Residential\n",
    "       I\tIndustrial\n",
    "       RH\tResidential High Density\n",
    "       RL\tResidential Low Density\n",
    "       RP\tResidential Low Density Park \n",
    "       RM\tResidential Medium Density"
   ]
  },
  {
   "cell_type": "markdown",
   "id": "47a37437",
   "metadata": {},
   "source": [
    "# Housing Market Analysis by Zoning Classification\n",
    "\n",
    "## Executive Summary\n",
    "This report analyzes residential property prices across different zoning classifications in the Ames, Iowa housing market, revealing significant price variations and market dynamics.\n",
    "\n",
    "## Key Findings\n",
    "\n",
    "### Premium Residential Zones\n",
    "- **Floating Village Residential (FV)**: $214,014\n",
    "  - Highest average price among all zones\n",
    "  - 12.7% premium over the next highest zone\n",
    "  - Represents 16% of total properties analyzed\n",
    "\n",
    "- **Residential Low Density (RL)**: $189,944\n",
    "  - Second highest average price\n",
    "  - Largest market segment (78% of properties)\n",
    "  - Minimal outlier impact (4.2% of properties)\n",
    "\n",
    "### Mid-Market Zones\n",
    "- **Residential Medium Density (RM)**: $126,316\n",
    "  - 33.5% lower than RL zone average\n",
    "  - Represents 14% of total properties\n",
    "  - Stable pricing with 4.8% outliers\n",
    "\n",
    "- **Residential High Density (RH)**: $136,466\n",
    "  - Limited inventory (2% of total)\n",
    "  - Highest median price among mid-market zones\n",
    "\n",
    "### Special Purpose Zones\n",
    "- **Commercial (C)**: $132,377\n",
    "  - Small sample size (n=12)\n",
    "  - High price volatility (wide range)\n",
    "\n",
    "- **Industrial (I)**: $129,500\n",
    "  - Smallest segment (n=2)\n",
    "  - Limited data for reliable analysis\n",
    "\n",
    "## Statistical Insights\n",
    "\n",
    "### Outlier Analysis\n",
    "1. **Floating Village (FV)**:\n",
    "   - 5.2% of properties are outliers\n",
    "   - Outliers contribute 10.3% of total zone value\n",
    "   - Suggests presence of premium properties\n",
    "\n",
    "2. **Residential Low Density (RL)**:\n",
    "   - Most stable segment\n",
    "   - Outliers represent only 7.7% of zone value\n",
    "   - Tight price distribution\n",
    "\n",
    "## Market Implications\n",
    "\n",
    "### For Homebuyers\n",
    "- **Premium Option**: FV zone offers highest-end properties\n",
    "- **Best Value**: RL zone provides best balance of price and selection\n",
    "- **Investment Potential**: RM zone may offer value opportunities\n",
    "\n",
    "### For Developers\n",
    "- **High-End Market**: FV zone commands premium pricing\n",
    "- **Volume Market**: RL zone represents largest buyer pool\n",
    "- **Emerging Areas**: RH zone shows potential for development\n",
    "\n",
    "### For Urban Planners\n",
    "- **Density Impact**: Clear correlation between density and price\n",
    "- **Market Segmentation**: Distinct price tiers by zone type\n",
    "- **Growth Areas**: Potential for value appreciation in RM zones\n",
    "\n",
    "## Data Notes\n",
    "- Analysis based on 1,460 total properties\n",
    "- All zones have sufficient sample size (n>10) except Industrial (n=2)\n",
    "- Outliers appear to represent legitimate market variation\n",
    "- Commercial and Industrial zones show highest price volatility\n",
    "\n",
    "## Recommendations\n",
    "1. Focus development in FV and RL zones for premium returns\n",
    "2. Consider RM zones for affordable housing initiatives\n",
    "3. Further investigate Commercial zone pricing dynamics\n",
    "4. Monitor RH zone for potential market growth opportunities"
   ]
  },
  {
   "cell_type": "code",
   "execution_count": 19,
   "id": "e948e73a",
   "metadata": {},
   "outputs": [
    {
     "data": {
      "text/plain": [
       "np.int64(0)"
      ]
     },
     "execution_count": 19,
     "metadata": {},
     "output_type": "execute_result"
    }
   ],
   "source": [
    "train_df['MSZoning'].isnull().sum()"
   ]
  },
  {
   "cell_type": "markdown",
   "id": "2bd6ceb8",
   "metadata": {},
   "source": [
    "LotFrontage: Linear feet of street connected to property"
   ]
  },
  {
   "cell_type": "code",
   "execution_count": 20,
   "id": "f6478fa3",
   "metadata": {},
   "outputs": [
    {
     "data": {
      "text/plain": [
       "np.int64(259)"
      ]
     },
     "execution_count": 20,
     "metadata": {},
     "output_type": "execute_result"
    }
   ],
   "source": [
    "train_df['LotFrontage'].isnull().sum()"
   ]
  },
  {
   "cell_type": "code",
   "execution_count": 21,
   "id": "ede705d3",
   "metadata": {},
   "outputs": [
    {
     "data": {
      "text/html": [
       "<div>\n",
       "<style scoped>\n",
       "    .dataframe tbody tr th:only-of-type {\n",
       "        vertical-align: middle;\n",
       "    }\n",
       "\n",
       "    .dataframe tbody tr th {\n",
       "        vertical-align: top;\n",
       "    }\n",
       "\n",
       "    .dataframe thead th {\n",
       "        text-align: right;\n",
       "    }\n",
       "</style>\n",
       "<table border=\"1\" class=\"dataframe\">\n",
       "  <thead>\n",
       "    <tr style=\"text-align: right;\">\n",
       "      <th></th>\n",
       "      <th>MSSubClass</th>\n",
       "      <th>MSZoning</th>\n",
       "      <th>LotFrontage</th>\n",
       "      <th>LotArea</th>\n",
       "      <th>Street</th>\n",
       "      <th>Alley</th>\n",
       "      <th>LotShape</th>\n",
       "      <th>LandContour</th>\n",
       "      <th>Utilities</th>\n",
       "      <th>LotConfig</th>\n",
       "      <th>...</th>\n",
       "      <th>PoolArea</th>\n",
       "      <th>PoolQC</th>\n",
       "      <th>Fence</th>\n",
       "      <th>MiscFeature</th>\n",
       "      <th>MiscVal</th>\n",
       "      <th>MoSold</th>\n",
       "      <th>YrSold</th>\n",
       "      <th>SaleType</th>\n",
       "      <th>SaleCondition</th>\n",
       "      <th>SalePrice</th>\n",
       "    </tr>\n",
       "    <tr>\n",
       "      <th>Id</th>\n",
       "      <th></th>\n",
       "      <th></th>\n",
       "      <th></th>\n",
       "      <th></th>\n",
       "      <th></th>\n",
       "      <th></th>\n",
       "      <th></th>\n",
       "      <th></th>\n",
       "      <th></th>\n",
       "      <th></th>\n",
       "      <th></th>\n",
       "      <th></th>\n",
       "      <th></th>\n",
       "      <th></th>\n",
       "      <th></th>\n",
       "      <th></th>\n",
       "      <th></th>\n",
       "      <th></th>\n",
       "      <th></th>\n",
       "      <th></th>\n",
       "      <th></th>\n",
       "    </tr>\n",
       "  </thead>\n",
       "  <tbody>\n",
       "    <tr>\n",
       "      <th>8</th>\n",
       "      <td>60</td>\n",
       "      <td>RL</td>\n",
       "      <td>NaN</td>\n",
       "      <td>10382</td>\n",
       "      <td>Pave</td>\n",
       "      <td>NaN</td>\n",
       "      <td>IR1</td>\n",
       "      <td>Lvl</td>\n",
       "      <td>AllPub</td>\n",
       "      <td>Corner</td>\n",
       "      <td>...</td>\n",
       "      <td>0</td>\n",
       "      <td>NaN</td>\n",
       "      <td>NaN</td>\n",
       "      <td>Shed</td>\n",
       "      <td>350</td>\n",
       "      <td>11</td>\n",
       "      <td>2009</td>\n",
       "      <td>WD</td>\n",
       "      <td>Normal</td>\n",
       "      <td>200000</td>\n",
       "    </tr>\n",
       "    <tr>\n",
       "      <th>13</th>\n",
       "      <td>20</td>\n",
       "      <td>RL</td>\n",
       "      <td>NaN</td>\n",
       "      <td>12968</td>\n",
       "      <td>Pave</td>\n",
       "      <td>NaN</td>\n",
       "      <td>IR2</td>\n",
       "      <td>Lvl</td>\n",
       "      <td>AllPub</td>\n",
       "      <td>Inside</td>\n",
       "      <td>...</td>\n",
       "      <td>0</td>\n",
       "      <td>NaN</td>\n",
       "      <td>NaN</td>\n",
       "      <td>NaN</td>\n",
       "      <td>0</td>\n",
       "      <td>9</td>\n",
       "      <td>2008</td>\n",
       "      <td>WD</td>\n",
       "      <td>Normal</td>\n",
       "      <td>144000</td>\n",
       "    </tr>\n",
       "    <tr>\n",
       "      <th>15</th>\n",
       "      <td>20</td>\n",
       "      <td>RL</td>\n",
       "      <td>NaN</td>\n",
       "      <td>10920</td>\n",
       "      <td>Pave</td>\n",
       "      <td>NaN</td>\n",
       "      <td>IR1</td>\n",
       "      <td>Lvl</td>\n",
       "      <td>AllPub</td>\n",
       "      <td>Corner</td>\n",
       "      <td>...</td>\n",
       "      <td>0</td>\n",
       "      <td>NaN</td>\n",
       "      <td>GdWo</td>\n",
       "      <td>NaN</td>\n",
       "      <td>0</td>\n",
       "      <td>5</td>\n",
       "      <td>2008</td>\n",
       "      <td>WD</td>\n",
       "      <td>Normal</td>\n",
       "      <td>157000</td>\n",
       "    </tr>\n",
       "    <tr>\n",
       "      <th>17</th>\n",
       "      <td>20</td>\n",
       "      <td>RL</td>\n",
       "      <td>NaN</td>\n",
       "      <td>11241</td>\n",
       "      <td>Pave</td>\n",
       "      <td>NaN</td>\n",
       "      <td>IR1</td>\n",
       "      <td>Lvl</td>\n",
       "      <td>AllPub</td>\n",
       "      <td>CulDSac</td>\n",
       "      <td>...</td>\n",
       "      <td>0</td>\n",
       "      <td>NaN</td>\n",
       "      <td>NaN</td>\n",
       "      <td>Shed</td>\n",
       "      <td>700</td>\n",
       "      <td>3</td>\n",
       "      <td>2010</td>\n",
       "      <td>WD</td>\n",
       "      <td>Normal</td>\n",
       "      <td>149000</td>\n",
       "    </tr>\n",
       "    <tr>\n",
       "      <th>25</th>\n",
       "      <td>20</td>\n",
       "      <td>RL</td>\n",
       "      <td>NaN</td>\n",
       "      <td>8246</td>\n",
       "      <td>Pave</td>\n",
       "      <td>NaN</td>\n",
       "      <td>IR1</td>\n",
       "      <td>Lvl</td>\n",
       "      <td>AllPub</td>\n",
       "      <td>Inside</td>\n",
       "      <td>...</td>\n",
       "      <td>0</td>\n",
       "      <td>NaN</td>\n",
       "      <td>MnPrv</td>\n",
       "      <td>NaN</td>\n",
       "      <td>0</td>\n",
       "      <td>5</td>\n",
       "      <td>2010</td>\n",
       "      <td>WD</td>\n",
       "      <td>Normal</td>\n",
       "      <td>154000</td>\n",
       "    </tr>\n",
       "    <tr>\n",
       "      <th>...</th>\n",
       "      <td>...</td>\n",
       "      <td>...</td>\n",
       "      <td>...</td>\n",
       "      <td>...</td>\n",
       "      <td>...</td>\n",
       "      <td>...</td>\n",
       "      <td>...</td>\n",
       "      <td>...</td>\n",
       "      <td>...</td>\n",
       "      <td>...</td>\n",
       "      <td>...</td>\n",
       "      <td>...</td>\n",
       "      <td>...</td>\n",
       "      <td>...</td>\n",
       "      <td>...</td>\n",
       "      <td>...</td>\n",
       "      <td>...</td>\n",
       "      <td>...</td>\n",
       "      <td>...</td>\n",
       "      <td>...</td>\n",
       "      <td>...</td>\n",
       "    </tr>\n",
       "    <tr>\n",
       "      <th>1430</th>\n",
       "      <td>20</td>\n",
       "      <td>RL</td>\n",
       "      <td>NaN</td>\n",
       "      <td>12546</td>\n",
       "      <td>Pave</td>\n",
       "      <td>NaN</td>\n",
       "      <td>IR1</td>\n",
       "      <td>Lvl</td>\n",
       "      <td>AllPub</td>\n",
       "      <td>Corner</td>\n",
       "      <td>...</td>\n",
       "      <td>0</td>\n",
       "      <td>NaN</td>\n",
       "      <td>NaN</td>\n",
       "      <td>NaN</td>\n",
       "      <td>0</td>\n",
       "      <td>4</td>\n",
       "      <td>2007</td>\n",
       "      <td>WD</td>\n",
       "      <td>Normal</td>\n",
       "      <td>182900</td>\n",
       "    </tr>\n",
       "    <tr>\n",
       "      <th>1432</th>\n",
       "      <td>120</td>\n",
       "      <td>RL</td>\n",
       "      <td>NaN</td>\n",
       "      <td>4928</td>\n",
       "      <td>Pave</td>\n",
       "      <td>NaN</td>\n",
       "      <td>IR1</td>\n",
       "      <td>Lvl</td>\n",
       "      <td>AllPub</td>\n",
       "      <td>Inside</td>\n",
       "      <td>...</td>\n",
       "      <td>0</td>\n",
       "      <td>NaN</td>\n",
       "      <td>NaN</td>\n",
       "      <td>NaN</td>\n",
       "      <td>0</td>\n",
       "      <td>10</td>\n",
       "      <td>2009</td>\n",
       "      <td>WD</td>\n",
       "      <td>Normal</td>\n",
       "      <td>143750</td>\n",
       "    </tr>\n",
       "    <tr>\n",
       "      <th>1442</th>\n",
       "      <td>120</td>\n",
       "      <td>RM</td>\n",
       "      <td>NaN</td>\n",
       "      <td>4426</td>\n",
       "      <td>Pave</td>\n",
       "      <td>NaN</td>\n",
       "      <td>Reg</td>\n",
       "      <td>Lvl</td>\n",
       "      <td>AllPub</td>\n",
       "      <td>Inside</td>\n",
       "      <td>...</td>\n",
       "      <td>0</td>\n",
       "      <td>NaN</td>\n",
       "      <td>NaN</td>\n",
       "      <td>NaN</td>\n",
       "      <td>0</td>\n",
       "      <td>5</td>\n",
       "      <td>2008</td>\n",
       "      <td>WD</td>\n",
       "      <td>Normal</td>\n",
       "      <td>149300</td>\n",
       "    </tr>\n",
       "    <tr>\n",
       "      <th>1444</th>\n",
       "      <td>30</td>\n",
       "      <td>RL</td>\n",
       "      <td>NaN</td>\n",
       "      <td>8854</td>\n",
       "      <td>Pave</td>\n",
       "      <td>NaN</td>\n",
       "      <td>Reg</td>\n",
       "      <td>Lvl</td>\n",
       "      <td>AllPub</td>\n",
       "      <td>Inside</td>\n",
       "      <td>...</td>\n",
       "      <td>0</td>\n",
       "      <td>NaN</td>\n",
       "      <td>NaN</td>\n",
       "      <td>NaN</td>\n",
       "      <td>0</td>\n",
       "      <td>5</td>\n",
       "      <td>2009</td>\n",
       "      <td>WD</td>\n",
       "      <td>Normal</td>\n",
       "      <td>121000</td>\n",
       "    </tr>\n",
       "    <tr>\n",
       "      <th>1447</th>\n",
       "      <td>20</td>\n",
       "      <td>RL</td>\n",
       "      <td>NaN</td>\n",
       "      <td>26142</td>\n",
       "      <td>Pave</td>\n",
       "      <td>NaN</td>\n",
       "      <td>IR1</td>\n",
       "      <td>Lvl</td>\n",
       "      <td>AllPub</td>\n",
       "      <td>CulDSac</td>\n",
       "      <td>...</td>\n",
       "      <td>0</td>\n",
       "      <td>NaN</td>\n",
       "      <td>NaN</td>\n",
       "      <td>NaN</td>\n",
       "      <td>0</td>\n",
       "      <td>4</td>\n",
       "      <td>2010</td>\n",
       "      <td>WD</td>\n",
       "      <td>Normal</td>\n",
       "      <td>157900</td>\n",
       "    </tr>\n",
       "  </tbody>\n",
       "</table>\n",
       "<p>259 rows × 80 columns</p>\n",
       "</div>"
      ],
      "text/plain": [
       "      MSSubClass MSZoning  LotFrontage  LotArea Street Alley LotShape  \\\n",
       "Id                                                                      \n",
       "8             60       RL          NaN    10382   Pave   NaN      IR1   \n",
       "13            20       RL          NaN    12968   Pave   NaN      IR2   \n",
       "15            20       RL          NaN    10920   Pave   NaN      IR1   \n",
       "17            20       RL          NaN    11241   Pave   NaN      IR1   \n",
       "25            20       RL          NaN     8246   Pave   NaN      IR1   \n",
       "...          ...      ...          ...      ...    ...   ...      ...   \n",
       "1430          20       RL          NaN    12546   Pave   NaN      IR1   \n",
       "1432         120       RL          NaN     4928   Pave   NaN      IR1   \n",
       "1442         120       RM          NaN     4426   Pave   NaN      Reg   \n",
       "1444          30       RL          NaN     8854   Pave   NaN      Reg   \n",
       "1447          20       RL          NaN    26142   Pave   NaN      IR1   \n",
       "\n",
       "     LandContour Utilities LotConfig  ... PoolArea PoolQC  Fence MiscFeature  \\\n",
       "Id                                    ...                                      \n",
       "8            Lvl    AllPub    Corner  ...        0    NaN    NaN        Shed   \n",
       "13           Lvl    AllPub    Inside  ...        0    NaN    NaN         NaN   \n",
       "15           Lvl    AllPub    Corner  ...        0    NaN   GdWo         NaN   \n",
       "17           Lvl    AllPub   CulDSac  ...        0    NaN    NaN        Shed   \n",
       "25           Lvl    AllPub    Inside  ...        0    NaN  MnPrv         NaN   \n",
       "...          ...       ...       ...  ...      ...    ...    ...         ...   \n",
       "1430         Lvl    AllPub    Corner  ...        0    NaN    NaN         NaN   \n",
       "1432         Lvl    AllPub    Inside  ...        0    NaN    NaN         NaN   \n",
       "1442         Lvl    AllPub    Inside  ...        0    NaN    NaN         NaN   \n",
       "1444         Lvl    AllPub    Inside  ...        0    NaN    NaN         NaN   \n",
       "1447         Lvl    AllPub   CulDSac  ...        0    NaN    NaN         NaN   \n",
       "\n",
       "     MiscVal MoSold  YrSold  SaleType  SaleCondition  SalePrice  \n",
       "Id                                                               \n",
       "8        350     11    2009        WD         Normal     200000  \n",
       "13         0      9    2008        WD         Normal     144000  \n",
       "15         0      5    2008        WD         Normal     157000  \n",
       "17       700      3    2010        WD         Normal     149000  \n",
       "25         0      5    2010        WD         Normal     154000  \n",
       "...      ...    ...     ...       ...            ...        ...  \n",
       "1430       0      4    2007        WD         Normal     182900  \n",
       "1432       0     10    2009        WD         Normal     143750  \n",
       "1442       0      5    2008        WD         Normal     149300  \n",
       "1444       0      5    2009        WD         Normal     121000  \n",
       "1447       0      4    2010        WD         Normal     157900  \n",
       "\n",
       "[259 rows x 80 columns]"
      ]
     },
     "execution_count": 21,
     "metadata": {},
     "output_type": "execute_result"
    }
   ],
   "source": [
    "train_df[train_df['LotFrontage'].isnull()]"
   ]
  },
  {
   "cell_type": "code",
   "execution_count": 22,
   "id": "b98d4cb9",
   "metadata": {},
   "outputs": [
    {
     "data": {
      "text/plain": [
       "(1460, 80)"
      ]
     },
     "execution_count": 22,
     "metadata": {},
     "output_type": "execute_result"
    }
   ],
   "source": [
    "train_df.shape"
   ]
  },
  {
   "cell_type": "code",
   "execution_count": 23,
   "id": "00fe9adf",
   "metadata": {},
   "outputs": [
    {
     "data": {
      "text/plain": [
       "count    1201.000000\n",
       "mean       70.049958\n",
       "std        24.284752\n",
       "min        21.000000\n",
       "25%        59.000000\n",
       "50%        69.000000\n",
       "75%        80.000000\n",
       "max       313.000000\n",
       "Name: LotFrontage, dtype: float64"
      ]
     },
     "execution_count": 23,
     "metadata": {},
     "output_type": "execute_result"
    }
   ],
   "source": [
    "train_df['LotFrontage'].describe()"
   ]
  },
  {
   "cell_type": "code",
   "execution_count": 24,
   "id": "5fe7bdf2",
   "metadata": {},
   "outputs": [
    {
     "data": {
      "image/png": "[encoded data removed]",
      "text/plain": [
       "<Figure size 1200x600 with 1 Axes>"
      ]
     },
     "metadata": {},
     "output_type": "display_data"
    }
   ],
   "source": [
    "import seaborn as sns\n",
    "import matplotlib.pyplot as plt\n",
    "\n",
    "# Scatter plot of LotFrontage vs SalePrice\n",
    "plt.figure(figsize=(12, 6))\n",
    "sns.scatterplot(x='LotFrontage', y='SalePrice', data=train_df, alpha=0.6)\n",
    "plt.title('Lot Frontage vs Sale Price')\n",
    "plt.xlabel('Lot Frontage (feet)')\n",
    "plt.ylabel('Sale Price ($)')\n",
    "plt.grid(True)\n",
    "plt.show()"
   ]
  },
  {
   "cell_type": "markdown",
   "id": "bae45bd2",
   "metadata": {},
   "source": [
    "\n",
    "## Imputation Strategy:\n",
    "Recommended: Fill with median of the neighborhood\n",
    "Alternative: Fill with overall median if neighborhood data isn't available"
   ]
  },
  {
   "cell_type": "code",
   "execution_count": 25,
   "id": "fd466bb7",
   "metadata": {},
   "outputs": [],
   "source": [
    "train_df_copy = train_df.copy()\n",
    "train_df_copy['LotFrontage'] = train_df_copy.groupby('Neighborhood')['LotFrontage'].transform(\n",
    "    lambda x: x.fillna(x.median()))\n",
    "train_df_copy['LotFrontage'].fillna(train_df_copy['LotFrontage'].median(), inplace=True)"
   ]
  },
  {
   "cell_type": "code",
   "execution_count": 26,
   "id": "2cdc3fe1",
   "metadata": {},
   "outputs": [
    {
     "data": {
      "text/plain": [
       "np.int64(0)"
      ]
     },
     "execution_count": 26,
     "metadata": {},
     "output_type": "execute_result"
    }
   ],
   "source": [
    "train_df_copy['LotFrontage'].isnull().sum()"
   ]
  },
  {
   "cell_type": "code",
   "execution_count": 27,
   "id": "37537ca0",
   "metadata": {},
   "outputs": [
    {
     "data": {
      "image/png": "[encoded data removed]",
      "text/plain": [
       "<Figure size 1200x600 with 1 Axes>"
      ]
     },
     "metadata": {},
     "output_type": "display_data"
    }
   ],
   "source": [
    "import seaborn as sns\n",
    "import matplotlib.pyplot as plt\n",
    "\n",
    "# Scatter plot of LotFrontage vs SalePrice\n",
    "plt.figure(figsize=(12, 6))\n",
    "sns.scatterplot(x='LotFrontage', y='SalePrice', data=train_df, alpha=0.6)\n",
    "plt.title('Lot Frontage vs Sale Price')\n",
    "plt.xlabel('Lot Frontage (feet)')\n",
    "plt.ylabel('Sale Price ($)')\n",
    "plt.grid(True)\n",
    "plt.show()"
   ]
  },
  {
   "cell_type": "code",
   "execution_count": 30,
   "id": "85337114",
   "metadata": {},
   "outputs": [
    {
     "data": {
      "image/png": "[encoded data removed]",
      "text/plain": [
       "<Figure size 1500x600 with 2 Axes>"
      ]
     },
     "metadata": {},
     "output_type": "display_data"
    }
   ],
   "source": [
    "# Before and after imputation visualization\n",
    "plt.figure(figsize=(15, 6))\n",
    "\n",
    "# Before imputation\n",
    "plt.subplot(1, 2, 1)\n",
    "sns.histplot(train_df['LotFrontage'].dropna(), kde=True, color='blue')\n",
    "plt.title('Lot Frontage Distribution (Before Imputation)')\n",
    "plt.xlabel('Lot Frontage (feet)')\n",
    "\n",
    "# After imputation\n",
    "plt.subplot(1, 2, 2)\n",
    "sns.histplot(train_df_copy['LotFrontage'], kde=True, color='green')\n",
    "plt.title('Lot Frontage Distribution (After Imputation)')\n",
    "plt.xlabel('Lot Frontage (feet)')\n",
    "\n",
    "plt.tight_layout()\n",
    "plt.show()"
   ]
  },
  {
   "cell_type": "code",
   "execution_count": 40,
   "id": "308a360c",
   "metadata": {},
   "outputs": [
    {
     "data": {
      "text/plain": [
       "Id\n",
       "1       CollgCr\n",
       "2       Veenker\n",
       "3       CollgCr\n",
       "4       Crawfor\n",
       "5       NoRidge\n",
       "         ...   \n",
       "1456    Gilbert\n",
       "1457     NWAmes\n",
       "1458    Crawfor\n",
       "1459      NAmes\n",
       "1460    Edwards\n",
       "Name: Neighborhood, Length: 1460, dtype: object"
      ]
     },
     "execution_count": 40,
     "metadata": {},
     "output_type": "execute_result"
    }
   ],
   "source": [
    "train_df_copy['Neighborhood']"
   ]
  },
  {
   "cell_type": "code",
   "execution_count": 38,
   "id": "50250dd4",
   "metadata": {},
   "outputs": [
    {
     "data": {
      "image/png": "[encoded data removed]",
      "text/plain": [
       "<Figure size 1400x800 with 1 Axes>"
      ]
     },
     "metadata": {},
     "output_type": "display_data"
    }
   ],
   "source": [
    "plt.figure(figsize=(14, 8))\n",
    "sns.boxplot(x='Neighborhood', y='LotFrontage', data=train_df_copy)\n",
    "plt.xticks(rotation=90)\n",
    "plt.title('Lot Frontage Distribution by Neighborhood')\n",
    "plt.tight_layout()\n",
    "plt.show()"
   ]
  },
  {
   "cell_type": "code",
   "execution_count": 44,
   "id": "5571c27f",
   "metadata": {},
   "outputs": [
    {
     "data": {
      "image/png": "[encoded data removed]",
      "text/plain": [
       "<Figure size 1200x600 with 1 Axes>"
      ]
     },
     "metadata": {},
     "output_type": "display_data"
    }
   ],
   "source": [
    "train_df_copy['PricePerFrontFoot'] = train_df['SalePrice'] / train_df['LotFrontage']\n",
    "plt.figure(figsize=(12, 6))\n",
    "sns.scatterplot(x='LotFrontage', y='PricePerFrontFoot', data=train_df_copy, hue='MSZoning')\n",
    "plt.title('Price per Front Foot by Lot Frontage')\n",
    "plt.xlabel('Lot Frontage (feet)')\n",
    "plt.ylabel('Price per Front Foot ($)')\n",
    "plt.legend(bbox_to_anchor=(1.05, 1), loc='upper left')\n",
    "plt.tight_layout()\n",
    "plt.show()"
   ]
  },
  {
   "cell_type": "markdown",
   "id": "c6d84b81",
   "metadata": {},
   "source": [
    "LotArea: Lot size in square feet"
   ]
  },
  {
   "cell_type": "code",
   "execution_count": 45,
   "id": "f5359f5c",
   "metadata": {},
   "outputs": [
    {
     "data": {
      "text/plain": [
       "np.int64(0)"
      ]
     },
     "execution_count": 45,
     "metadata": {},
     "output_type": "execute_result"
    }
   ],
   "source": [
    "train_df['LotArea'].isnull().sum()"
   ]
  },
  {
   "cell_type": "markdown",
   "id": "3bc91eea",
   "metadata": {},
   "source": [
    "Street: Type of road access to property\n",
    "\n",
    "       Grvl\tGravel\t\n",
    "       Pave\tPaved"
   ]
  },
  {
   "cell_type": "markdown",
   "id": "f58fceee",
   "metadata": {},
   "source": [
    "Alley: Type of alley access to property\n",
    "\n",
    "       Grvl\tGravel\n",
    "       Pave\tPaved\n",
    "       NA \tNo alley access"
   ]
  },
  {
   "cell_type": "markdown",
   "id": "166b37ba",
   "metadata": {},
   "source": [
    "LotShape: General shape of property\n",
    "\n",
    "       Reg\tRegular\t\n",
    "       IR1\tSlightly irregular\n",
    "       IR2\tModerately Irregular\n",
    "       IR3\tIrregular"
   ]
  },
  {
   "cell_type": "markdown",
   "id": "19d5fb58",
   "metadata": {},
   "source": [
    "LandContour: Flatness of the property\n",
    "\n",
    "       Lvl\tNear Flat/Level\t\n",
    "       Bnk\tBanked - Quick and significant rise from street grade to building\n",
    "       HLS\tHillside - Significant slope from side to side\n",
    "       Low\tDepression"
   ]
  },
  {
   "cell_type": "markdown",
   "id": "ee57021f",
   "metadata": {},
   "source": [
    "Utilities: Type of utilities available\n",
    "\t\t\n",
    "       AllPub\tAll public Utilities (E,G,W,& S)\t\n",
    "       NoSewr\tElectricity, Gas, and Water (Septic Tank)\n",
    "       NoSeWa\tElectricity and Gas Only\n",
    "       ELO\tElectricity only"
   ]
  },
  {
   "cell_type": "markdown",
   "id": "a80a7d84",
   "metadata": {},
   "source": [
    "LotConfig: Lot configuration\n",
    "\n",
    "       Inside\tInside lot\n",
    "       Corner\tCorner lot\n",
    "       CulDSac\tCul-de-sac\n",
    "       FR2\tFrontage on 2 sides of property\n",
    "       FR3\tFrontage on 3 sides of property"
   ]
  },
  {
   "cell_type": "markdown",
   "id": "b3c5f4ae",
   "metadata": {},
   "source": [
    "LandSlope: Slope of property\n",
    "\t\t\n",
    "       Gtl\tGentle slope\n",
    "       Mod\tModerate Slope\t\n",
    "       Sev\tSevere Slope"
   ]
  },
  {
   "cell_type": "markdown",
   "id": "52707a35",
   "metadata": {},
   "source": [
    "\t\n",
    "\n",
    "\t\n",
    "Neighborhood: Physical locations within Ames city limits\n",
    "\n",
    "       Blmngtn\tBloomington Heights\n",
    "       Blueste\tBluestem\n",
    "       BrDale\tBriardale\n",
    "       BrkSide\tBrookside\n",
    "       ClearCr\tClear Creek\n",
    "       CollgCr\tCollege Creek\n",
    "       Crawfor\tCrawford\n",
    "       Edwards\tEdwards\n",
    "       Gilbert\tGilbert\n",
    "       IDOTRR\tIowa DOT and Rail Road\n",
    "       MeadowV\tMeadow Village\n",
    "       Mitchel\tMitchell\n",
    "       Names\tNorth Ames\n",
    "       NoRidge\tNorthridge\n",
    "       NPkVill\tNorthpark Villa\n",
    "       NridgHt\tNorthridge Heights\n",
    "       NWAmes\tNorthwest Ames\n",
    "       OldTown\tOld Town\n",
    "       SWISU\tSouth & West of Iowa State University\n",
    "       Sawyer\tSawyer\n",
    "       SawyerW\tSawyer West\n",
    "       Somerst\tSomerset\n",
    "       StoneBr\tStone Brook\n",
    "       Timber\tTimberland\n",
    "       Veenker\tVeenker"
   ]
  },
  {
   "cell_type": "markdown",
   "id": "1964e719",
   "metadata": {},
   "source": [
    "Condition1: Proximity to various conditions\n",
    "\t\n",
    "       Artery\tAdjacent to arterial street\n",
    "       Feedr\tAdjacent to feeder street\t\n",
    "       Norm\tNormal\t\n",
    "       RRNn\tWithin 200' of North-South Railroad\n",
    "       RRAn\tAdjacent to North-South Railroad\n",
    "       PosN\tNear positive off-site feature--park, greenbelt, etc.\n",
    "       PosA\tAdjacent to postive off-site feature\n",
    "       RRNe\tWithin 200' of East-West Railroad\n",
    "       RRAe\tAdjacent to East-West Railroad"
   ]
  },
  {
   "cell_type": "markdown",
   "id": "319fabcf",
   "metadata": {},
   "source": [
    "Condition2: Proximity to various conditions (if more than one is present)\n",
    "\t\t\n",
    "       Artery\tAdjacent to arterial street\n",
    "       Feedr\tAdjacent to feeder street\t\n",
    "       Norm\tNormal\t\n",
    "       RRNn\tWithin 200' of North-South Railroad\n",
    "       RRAn\tAdjacent to North-South Railroad\n",
    "       PosN\tNear positive off-site feature--park, greenbelt, etc.\n",
    "       PosA\tAdjacent to postive off-site feature\n",
    "       RRNe\tWithin 200' of East-West Railroad\n",
    "       RRAe\tAdjacent to East-West Railroad"
   ]
  },
  {
   "cell_type": "markdown",
   "id": "d17e61c1",
   "metadata": {},
   "source": [
    "BldgType: Type of dwelling\n",
    "\t\t\n",
    "       1Fam\tSingle-family Detached\t\n",
    "       2FmCon\tTwo-family Conversion; originally built as one-family dwelling\n",
    "       Duplx\tDuplex\n",
    "       TwnhsE\tTownhouse End Unit\n",
    "       TwnhsI\tTownhouse Inside Unit"
   ]
  },
  {
   "cell_type": "markdown",
   "id": "46f8435d",
   "metadata": {},
   "source": [
    "HouseStyle: Style of dwelling\n",
    "\t\n",
    "       1Story\tOne story\n",
    "       1.5Fin\tOne and one-half story: 2nd level finished\n",
    "       1.5Unf\tOne and one-half story: 2nd level unfinished\n",
    "       2Story\tTwo story\n",
    "       2.5Fin\tTwo and one-half story: 2nd level finished\n",
    "       2.5Unf\tTwo and one-half story: 2nd level unfinished\n",
    "       SFoyer\tSplit Foyer\n",
    "       SLvl\tSplit Level\n",
    "\t\n"
   ]
  },
  {
   "cell_type": "markdown",
   "id": "f08ad31b",
   "metadata": {},
   "source": [
    "OverallQual: Rates the overall material and finish of the house\n",
    "\n",
    "       10\tVery Excellent\n",
    "       9\tExcellent\n",
    "       8\tVery Good\n",
    "       7\tGood\n",
    "       6\tAbove Average\n",
    "       5\tAverage\n",
    "       4\tBelow Average\n",
    "       3\tFair\n",
    "       2\tPoor\n",
    "       1\tVery Poor\n",
    "\t\n"
   ]
  },
  {
   "cell_type": "markdown",
   "id": "4053e4c7",
   "metadata": {},
   "source": [
    "OverallCond: Rates the overall condition of the house\n",
    "\n",
    "       10\tVery Excellent\n",
    "       9\tExcellent\n",
    "       8\tVery Good\n",
    "       7\tGood\n",
    "       6\tAbove Average\t\n",
    "       5\tAverage\n",
    "       4\tBelow Average\t\n",
    "       3\tFair\n",
    "       2\tPoor\n",
    "       1\tVery Poor\n",
    "\t\t\n"
   ]
  },
  {
   "cell_type": "markdown",
   "id": "5c589537",
   "metadata": {},
   "source": [
    "YearBuilt: Original construction date"
   ]
  },
  {
   "cell_type": "code",
   "execution_count": 29,
   "id": "09aaa58e",
   "metadata": {},
   "outputs": [
    {
     "ename": "SyntaxError",
     "evalue": "invalid syntax (2857613595.py, line 1)",
     "output_type": "error",
     "traceback": [
      "  \u001b[36mCell\u001b[39m\u001b[36m \u001b[39m\u001b[32mIn[29]\u001b[39m\u001b[32m, line 1\u001b[39m\n\u001b[31m    \u001b[39m\u001b[31mYearRemodAdd: Remodel date (same as construction date if no remodeling or additions)\u001b[39m\n                          ^\n\u001b[31mSyntaxError\u001b[39m\u001b[31m:\u001b[39m invalid syntax\n"
     ]
    }
   ],
   "source": [
    "YearRemodAdd: Remodel date (same as construction date if no remodeling or additions)"
   ]
  },
  {
   "cell_type": "markdown",
   "id": "1ef3c56a",
   "metadata": {},
   "source": [
    "RoofStyle: Type of roof\n",
    "\n",
    "       Flat\tFlat\n",
    "       Gable\tGable\n",
    "       Gambrel\tGabrel (Barn)\n",
    "       Hip\tHip\n",
    "       Mansard\tMansard\n",
    "       Shed\tShed\n",
    "\t\t\n"
   ]
  },
  {
   "cell_type": "markdown",
   "id": "ea7e3a0b",
   "metadata": {},
   "source": [
    "RoofMatl: Roof material\n",
    "\n",
    "       ClyTile\tClay or Tile\n",
    "       CompShg\tStandard (Composite) Shingle\n",
    "       Membran\tMembrane\n",
    "       Metal\tMetal\n",
    "       Roll\tRoll\n",
    "       Tar&Grv\tGravel & Tar\n",
    "       WdShake\tWood Shakes\n",
    "       WdShngl\tWood Shingles\n",
    "\t\t\n"
   ]
  },
  {
   "cell_type": "markdown",
   "id": "d70fc500",
   "metadata": {},
   "source": [
    "Exterior1st: Exterior covering on house\n",
    "\n",
    "       AsbShng\tAsbestos Shingles\n",
    "       AsphShn\tAsphalt Shingles\n",
    "       BrkComm\tBrick Common\n",
    "       BrkFace\tBrick Face\n",
    "       CBlock\tCinder Block\n",
    "       CemntBd\tCement Board\n",
    "       HdBoard\tHard Board\n",
    "       ImStucc\tImitation Stucco\n",
    "       MetalSd\tMetal Siding\n",
    "       Other\tOther\n",
    "       Plywood\tPlywood\n",
    "       PreCast\tPreCast\t\n",
    "       Stone\tStone\n",
    "       Stucco\tStucco\n",
    "       VinylSd\tVinyl Siding\n",
    "       Wd Sdng\tWood Siding\n",
    "       WdShing\tWood Shingles\n",
    "\t\n"
   ]
  },
  {
   "cell_type": "markdown",
   "id": "5de29567",
   "metadata": {},
   "source": [
    "Exterior2nd: Exterior covering on house (if more than one material)\n",
    "\n",
    "       AsbShng\tAsbestos Shingles\n",
    "       AsphShn\tAsphalt Shingles\n",
    "       BrkComm\tBrick Common\n",
    "       BrkFace\tBrick Face\n",
    "       CBlock\tCinder Block\n",
    "       CemntBd\tCement Board\n",
    "       HdBoard\tHard Board\n",
    "       ImStucc\tImitation Stucco\n",
    "       MetalSd\tMetal Siding\n",
    "       Other\tOther\n",
    "       Plywood\tPlywood\n",
    "       PreCast\tPreCast\n",
    "       Stone\tStone\n",
    "       Stucco\tStucco\n",
    "       VinylSd\tVinyl Siding\n",
    "       Wd Sdng\tWood Siding\n",
    "       WdShing\tWood Shingles\n",
    "\t\n"
   ]
  },
  {
   "cell_type": "markdown",
   "id": "8d76ab6c",
   "metadata": {},
   "source": [
    "MasVnrType: Masonry veneer type\n",
    "\n",
    "       BrkCmn\tBrick Common\n",
    "       BrkFace\tBrick Face\n",
    "       CBlock\tCinder Block\n",
    "       None\tNone\n",
    "       Stone\tStone\n",
    "\t\n"
   ]
  },
  {
   "cell_type": "markdown",
   "id": "189a72c6",
   "metadata": {},
   "source": [
    "MasVnrArea: Masonry veneer area in square feet\n",
    "\n"
   ]
  },
  {
   "cell_type": "markdown",
   "id": "9d5558fc",
   "metadata": {},
   "source": [
    "ExterQual: Evaluates the quality of the material on the exterior \n",
    "\t\t\n",
    "       Ex\tExcellent\n",
    "       Gd\tGood\n",
    "       TA\tAverage/Typical\n",
    "       Fa\tFair\n",
    "       Po\tPoor"
   ]
  },
  {
   "cell_type": "markdown",
   "id": "01f09c26",
   "metadata": {},
   "source": [
    "ExterCond: Evaluates the present condition of the material on the exterior\n",
    "\t\t\n",
    "       Ex\tExcellent\n",
    "       Gd\tGood\n",
    "       TA\tAverage/Typical\n",
    "       Fa\tFair\n",
    "       Po\tPoor"
   ]
  },
  {
   "cell_type": "markdown",
   "id": "1a510075",
   "metadata": {},
   "source": [
    "Foundation: Type of foundation\n",
    "\t\t\n",
    "       BrkTil\tBrick & Tile\n",
    "       CBlock\tCinder Block\n",
    "       PConc\tPoured Contrete\t\n",
    "       Slab\tSlab\n",
    "       Stone\tStone\n",
    "       Wood\tWood"
   ]
  },
  {
   "cell_type": "markdown",
   "id": "f2828d3c",
   "metadata": {},
   "source": [
    "BsmtQual: Evaluates the height of the basement\n",
    "\n",
    "       Ex\tExcellent (100+ inches)\t\n",
    "       Gd\tGood (90-99 inches)\n",
    "       TA\tTypical (80-89 inches)\n",
    "       Fa\tFair (70-79 inches)\n",
    "       Po\tPoor (<70 inches)\n",
    "       NA\tNo Basement"
   ]
  },
  {
   "cell_type": "markdown",
   "id": "c958b7e4",
   "metadata": {},
   "source": [
    "BsmtCond: Evaluates the general condition of the basement\n",
    "\n",
    "       Ex\tExcellent\n",
    "       Gd\tGood\n",
    "       TA\tTypical - slight dampness allowed\n",
    "       Fa\tFair - dampness or some cracking or settling\n",
    "       Po\tPoor - Severe cracking, settling, or wetness\n",
    "       NA\tNo Basement"
   ]
  },
  {
   "cell_type": "markdown",
   "id": "dfb34118",
   "metadata": {},
   "source": [
    "BsmtExposure: Refers to walkout or garden level walls\n",
    "\n",
    "       Gd\tGood Exposure\n",
    "       Av\tAverage Exposure (split levels or foyers typically score average or above)\t\n",
    "       Mn\tMimimum Exposure\n",
    "       No\tNo Exposure\n",
    "       NA\tNo Basement"
   ]
  },
  {
   "cell_type": "markdown",
   "id": "d4143447",
   "metadata": {},
   "source": [
    "BsmtFinType1: Rating of basement finished area\n",
    "\n",
    "       GLQ\tGood Living Quarters\n",
    "       ALQ\tAverage Living Quarters\n",
    "       BLQ\tBelow Average Living Quarters\t\n",
    "       Rec\tAverage Rec Room\n",
    "       LwQ\tLow Quality\n",
    "       Unf\tUnfinshed\n",
    "       NA\tNo Basement"
   ]
  },
  {
   "cell_type": "markdown",
   "id": "872996f6",
   "metadata": {},
   "source": [
    "BsmtFinSF1: Type 1 finished square feet"
   ]
  },
  {
   "cell_type": "markdown",
   "id": "e505cd38",
   "metadata": {},
   "source": [
    "BsmtFinType2: Rating of basement finished area (if multiple types)\n",
    "\n",
    "       GLQ\tGood Living Quarters\n",
    "       ALQ\tAverage Living Quarters\n",
    "       BLQ\tBelow Average Living Quarters\t\n",
    "       Rec\tAverage Rec Room\n",
    "       LwQ\tLow Quality\n",
    "       Unf\tUnfinshed\n",
    "       NA\tNo Basement"
   ]
  },
  {
   "cell_type": "markdown",
   "id": "60489bf3",
   "metadata": {},
   "source": [
    "BsmtFinSF2: Type 2 finished square feet"
   ]
  },
  {
   "cell_type": "markdown",
   "id": "d8cfa006",
   "metadata": {},
   "source": [
    "BsmtUnfSF: Unfinished square feet of basement area"
   ]
  },
  {
   "cell_type": "markdown",
   "id": "9764f7b7",
   "metadata": {},
   "source": [
    "TotalBsmtSF: Total square feet of basement area"
   ]
  },
  {
   "cell_type": "markdown",
   "id": "f5402feb",
   "metadata": {},
   "source": [
    "Heating: Type of heating\n",
    "\t\t\n",
    "       Floor\tFloor Furnace\n",
    "       GasA\tGas forced warm air furnace\n",
    "       GasW\tGas hot water or steam heat\n",
    "       Grav\tGravity furnace\t\n",
    "       OthW\tHot water or steam heat other than gas\n",
    "       Wall\tWall furnace"
   ]
  },
  {
   "cell_type": "markdown",
   "id": "82b9e1fa",
   "metadata": {},
   "source": [
    "HeatingQC: Heating quality and condition\n",
    "\n",
    "       Ex\tExcellent\n",
    "       Gd\tGood\n",
    "       TA\tAverage/Typical\n",
    "       Fa\tFair\n",
    "       Po\tPoor"
   ]
  },
  {
   "cell_type": "markdown",
   "id": "009df224",
   "metadata": {},
   "source": [
    "CentralAir: Central air conditioning\n",
    "\n",
    "       N\tNo\n",
    "       Y\tYes"
   ]
  },
  {
   "cell_type": "markdown",
   "id": "1d751bcd",
   "metadata": {},
   "source": [
    "Electrical: Electrical system\n",
    "\n",
    "       SBrkr\tStandard Circuit Breakers & Romex\n",
    "       FuseA\tFuse Box over 60 AMP and all Romex wiring (Average)\t\n",
    "       FuseF\t60 AMP Fuse Box and mostly Romex wiring (Fair)\n",
    "       FuseP\t60 AMP Fuse Box and mostly knob & tube wiring (poor)\n",
    "       Mix\tMixed"
   ]
  },
  {
   "cell_type": "markdown",
   "id": "fd10ffd7",
   "metadata": {},
   "source": [
    "1stFlrSF: First Floor square feet"
   ]
  },
  {
   "cell_type": "markdown",
   "id": "830e36f7",
   "metadata": {},
   "source": [
    "2ndFlrSF: Second floor square feet"
   ]
  },
  {
   "cell_type": "markdown",
   "id": "1885907a",
   "metadata": {},
   "source": [
    "LowQualFinSF: Low quality finished square feet (all floors)"
   ]
  },
  {
   "cell_type": "markdown",
   "id": "a50240f6",
   "metadata": {},
   "source": [
    "GrLivArea: Above grade (ground) living area square feet"
   ]
  },
  {
   "cell_type": "markdown",
   "id": "76b82d69",
   "metadata": {},
   "source": [
    "BsmtFullBath: Basement full bathrooms"
   ]
  },
  {
   "cell_type": "markdown",
   "id": "7403a0a6",
   "metadata": {},
   "source": [
    "BsmtHalfBath: Basement half bathrooms"
   ]
  },
  {
   "cell_type": "markdown",
   "id": "aac0ba0a",
   "metadata": {},
   "source": [
    "FullBath: Full bathrooms above grade"
   ]
  },
  {
   "cell_type": "markdown",
   "id": "0d8bdc1f",
   "metadata": {},
   "source": [
    "HalfBath: Half baths above grade"
   ]
  },
  {
   "cell_type": "markdown",
   "id": "ce5075df",
   "metadata": {},
   "source": [
    "Bedroom: Bedrooms above grade (does NOT include basement bedrooms)"
   ]
  },
  {
   "cell_type": "markdown",
   "id": "29526d19",
   "metadata": {},
   "source": [
    "Kitchen: Kitchens above grade"
   ]
  },
  {
   "cell_type": "markdown",
   "id": "93850d6a",
   "metadata": {},
   "source": [
    "KitchenQual: Kitchen quality\n",
    "\n",
    "       Ex\tExcellent\n",
    "       Gd\tGood\n",
    "       TA\tTypical/Average\n",
    "       Fa\tFair\n",
    "       Po\tPoor"
   ]
  },
  {
   "cell_type": "markdown",
   "id": "7ae32423",
   "metadata": {},
   "source": [
    "TotRmsAbvGrd: Total rooms above grade (does not include bathrooms)"
   ]
  },
  {
   "cell_type": "markdown",
   "id": "ca7fe141",
   "metadata": {},
   "source": [
    "Functional: Home functionality (Assume typical unless deductions are warranted)\n",
    "\n",
    "       Typ\tTypical Functionality\n",
    "       Min1\tMinor Deductions 1\n",
    "       Min2\tMinor Deductions 2\n",
    "       Mod\tModerate Deductions\n",
    "       Maj1\tMajor Deductions 1\n",
    "       Maj2\tMajor Deductions 2\n",
    "       Sev\tSeverely Damaged\n",
    "       Sal\tSalvage only"
   ]
  },
  {
   "cell_type": "markdown",
   "id": "2a1a4b0d",
   "metadata": {},
   "source": [
    "Fireplaces: Number of fireplaces"
   ]
  },
  {
   "cell_type": "markdown",
   "id": "93302343",
   "metadata": {},
   "source": [
    "FireplaceQu: Fireplace quality\n",
    "\n",
    "       Ex\tExcellent - Exceptional Masonry Fireplace\n",
    "       Gd\tGood - Masonry Fireplace in main level\n",
    "       TA\tAverage - Prefabricated Fireplace in main living area or Masonry Fireplace in basement\n",
    "       Fa\tFair - Prefabricated Fireplace in basement\n",
    "       Po\tPoor - Ben Franklin Stove\n",
    "       NA\tNo Fireplace"
   ]
  },
  {
   "cell_type": "markdown",
   "id": "7ce86282",
   "metadata": {},
   "source": [
    "GarageType: Garage location\n",
    "\t\t\n",
    "       2Types\tMore than one type of garage\n",
    "       Attchd\tAttached to home\n",
    "       Basment\tBasement Garage\n",
    "       BuiltIn\tBuilt-In (Garage part of house - typically has room above garage)\n",
    "       CarPort\tCar Port\n",
    "       Detchd\tDetached from home\n",
    "       NA\tNo Garage"
   ]
  },
  {
   "cell_type": "markdown",
   "id": "e77f0bc1",
   "metadata": {},
   "source": [
    "GarageYrBlt: Year garage was built"
   ]
  },
  {
   "cell_type": "markdown",
   "id": "630c33f7",
   "metadata": {},
   "source": [
    "GarageFinish: Interior finish of the garage\n",
    "\n",
    "       Fin\tFinished\n",
    "       RFn\tRough Finished\t\n",
    "       Unf\tUnfinished\n",
    "       NA\tNo Garage"
   ]
  },
  {
   "cell_type": "markdown",
   "id": "9931b80c",
   "metadata": {},
   "source": [
    "\t\t\n",
    "GarageCars: Size of garage in car capacity\n"
   ]
  },
  {
   "cell_type": "markdown",
   "id": "0e9d236f",
   "metadata": {},
   "source": [
    "\n",
    "GarageArea: Size of garage in square feet\n",
    "\n"
   ]
  },
  {
   "cell_type": "markdown",
   "id": "a1245558",
   "metadata": {},
   "source": [
    "GarageQual: Garage quality\n",
    "\n",
    "       Ex\tExcellent\n",
    "       Gd\tGood\n",
    "       TA\tTypical/Average\n",
    "       Fa\tFair\n",
    "       Po\tPoor\n",
    "       NA\tNo Garage"
   ]
  },
  {
   "cell_type": "markdown",
   "id": "db8fc9c1",
   "metadata": {},
   "source": [
    "GarageCond: Garage condition\n",
    "\n",
    "       Ex\tExcellent\n",
    "       Gd\tGood\n",
    "       TA\tTypical/Average\n",
    "       Fa\tFair\n",
    "       Po\tPoor\n",
    "       NA\tNo Garage"
   ]
  },
  {
   "cell_type": "markdown",
   "id": "fcb5d1c3",
   "metadata": {},
   "source": [
    "PavedDrive: Paved driveway\n",
    "\n",
    "       Y\tPaved \n",
    "       P\tPartial Pavement\n",
    "       N\tDirt/Gravel"
   ]
  },
  {
   "cell_type": "markdown",
   "id": "83e93fa7",
   "metadata": {},
   "source": [
    "WoodDeckSF: Wood deck area in square feet"
   ]
  },
  {
   "cell_type": "markdown",
   "id": "6b59c2cc",
   "metadata": {},
   "source": [
    "OpenPorchSF: Open porch area in square feet"
   ]
  },
  {
   "cell_type": "markdown",
   "id": "20c8c393",
   "metadata": {},
   "source": [
    "EnclosedPorch: Enclosed porch area in square feet"
   ]
  },
  {
   "cell_type": "markdown",
   "id": "afff4de1",
   "metadata": {},
   "source": [
    "3SsnPorch: Three season porch area in square feet"
   ]
  },
  {
   "cell_type": "markdown",
   "id": "eddae591",
   "metadata": {},
   "source": [
    "ScreenPorch: Screen porch area in square feet"
   ]
  },
  {
   "cell_type": "markdown",
   "id": "c66c262b",
   "metadata": {},
   "source": [
    "\n",
    "PoolArea: Pool area in square feet\n",
    "\n"
   ]
  },
  {
   "cell_type": "markdown",
   "id": "6c78b937",
   "metadata": {},
   "source": [
    "PoolQC: Pool quality\n",
    "\t\t\n",
    "       Ex\tExcellent\n",
    "       Gd\tGood\n",
    "       TA\tAverage/Typical\n",
    "       Fa\tFair\n",
    "       NA\tNo Pool\n",
    "\t\t\n"
   ]
  },
  {
   "cell_type": "markdown",
   "id": "31d49795",
   "metadata": {},
   "source": [
    "Fence: Fence quality\n",
    "\t\t\n",
    "       GdPrv\tGood Privacy\n",
    "       MnPrv\tMinimum Privacy\n",
    "       GdWo\tGood Wood\n",
    "       MnWw\tMinimum Wood/Wire\n",
    "       NA\tNo Fence\n",
    "\t\n"
   ]
  },
  {
   "cell_type": "markdown",
   "id": "4c65c8d3",
   "metadata": {},
   "source": [
    "MiscFeature: Miscellaneous feature not covered in other categories\n",
    "\t\t\n",
    "       Elev\tElevator\n",
    "       Gar2\t2nd Garage (if not described in garage section)\n",
    "       Othr\tOther\n",
    "       Shed\tShed (over 100 SF)\n",
    "       TenC\tTennis Court\n",
    "       NA\tNone\n"
   ]
  },
  {
   "cell_type": "markdown",
   "id": "d36f067e",
   "metadata": {},
   "source": [
    "\t\t\n",
    "MiscVal: $Value of miscellaneous feature\n"
   ]
  },
  {
   "cell_type": "markdown",
   "id": "fa43e498",
   "metadata": {},
   "source": [
    "\n",
    "MoSold: Month Sold (MM)\n"
   ]
  },
  {
   "cell_type": "markdown",
   "id": "ec52f340",
   "metadata": {},
   "source": [
    "\n",
    "YrSold: Year Sold (YYYY)\n"
   ]
  },
  {
   "cell_type": "markdown",
   "id": "bbf6ab7f",
   "metadata": {},
   "source": [
    "\n",
    "SaleType: Type of sale\n",
    "\t\t\n",
    "       WD \tWarranty Deed - Conventional\n",
    "       CWD\tWarranty Deed - Cash\n",
    "       VWD\tWarranty Deed - VA Loan\n",
    "       New\tHome just constructed and sold\n",
    "       COD\tCourt Officer Deed/Estate\n",
    "       Con\tContract 15% Down payment regular terms\n",
    "       ConLw\tContract Low Down payment and low interest\n",
    "       ConLI\tContract Low Interest\n",
    "       ConLD\tContract Low Down\n",
    "       Oth\tOther\n"
   ]
  },
  {
   "cell_type": "markdown",
   "id": "84d0faee",
   "metadata": {},
   "source": [
    "\t\t\n",
    "SaleCondition: Condition of sale\n",
    "\n",
    "       Normal\tNormal Sale\n",
    "       Abnorml\tAbnormal Sale -  trade, foreclosure, short sale\n",
    "       AdjLand\tAdjoining Land Purchase\n",
    "       Alloca\tAllocation - two linked properties with separate deeds, typically condo with a garage unit\t\n",
    "       Family\tSale between family members\n",
    "       Partial\tHome was not completed when last assessed (associated with New Homes)\n"
   ]
  }
 ],
 "metadata": {
  "kernelspec": {
   "display_name": ".pricepred",
   "language": "python",
   "name": "python3"
  },
  "language_info": {
   "codemirror_mode": {
    "name": "ipython",
    "version": 3
   },
   "file_extension": ".py",
   "mimetype": "text/x-python",
   "name": "python",
   "nbconvert_exporter": "python",
   "pygments_lexer": "ipython3",
   "version": "3.13.5"
  }
 },
 "nbformat": 4,
 "nbformat_minor": 5
}
